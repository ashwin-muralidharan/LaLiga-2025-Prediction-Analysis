{
 "cells": [
  {
   "cell_type": "code",
   "execution_count": 1,
   "id": "1bced9dd",
   "metadata": {},
   "outputs": [],
   "source": [
    "\n",
    "import pandas as pd\n",
    "import plotly.express as px\n",
    "import matplotlib.pyplot as plt\n",
    "\n"
   ]
  },
  {
   "cell_type": "markdown",
   "id": "8e0ea934-463f-4307-a514-6301c48bd212",
   "metadata": {},
   "source": [
    "### 📊 Dataset Overview & Use Case\n",
    "We load La Liga season data (2014–2025).  \n",
    "This gives team-level stats per season: matches, wins, goals, points, xG, attendance, etc.  \n",
    "\n",
    "**Use Case**:  \n",
    "- Provides the foundation for all further analytics.  \n",
    "- Lets analysts, fans, and media understand what kind of data is available.  \n"
   ]
  },
  {
   "cell_type": "code",
   "execution_count": 2,
   "id": "dbd8f3a1",
   "metadata": {},
   "outputs": [],
   "source": [
    "full_data = pd.read_csv(\"La_liga_data_2014-2025.csv\")"
   ]
  },
  {
   "cell_type": "code",
   "execution_count": 3,
   "id": "16cc034f-9f48-4602-835b-9d353a521f23",
   "metadata": {},
   "outputs": [
    {
     "name": "stdout",
     "output_type": "stream",
     "text": [
      "[2014 2015 2016 2017 2018 2019 2020 2021 2022 2023 2024]\n"
     ]
    }
   ],
   "source": [
    "print(full_data[\"season\"].unique())"
   ]
  },
  {
   "cell_type": "code",
   "execution_count": 4,
   "id": "2d142c45",
   "metadata": {},
   "outputs": [],
   "source": [
    "pd.set_option('display.max_columns', 500)\n",
    "pd.set_option('display.max_rows', 500)"
   ]
  },
  {
   "cell_type": "code",
   "execution_count": 5,
   "id": "63a77e79",
   "metadata": {},
   "outputs": [
    {
     "name": "stdout",
     "output_type": "stream",
     "text": [
      "(220, 20)\n"
     ]
    },
    {
     "data": {
      "text/html": [
       "<div>\n",
       "<style scoped>\n",
       "    .dataframe tbody tr th:only-of-type {\n",
       "        vertical-align: middle;\n",
       "    }\n",
       "\n",
       "    .dataframe tbody tr th {\n",
       "        vertical-align: top;\n",
       "    }\n",
       "\n",
       "    .dataframe thead th {\n",
       "        text-align: right;\n",
       "    }\n",
       "</style>\n",
       "<table border=\"1\" class=\"dataframe\">\n",
       "  <thead>\n",
       "    <tr style=\"text-align: right;\">\n",
       "      <th></th>\n",
       "      <th>rk</th>\n",
       "      <th>squad</th>\n",
       "      <th>mp</th>\n",
       "      <th>w</th>\n",
       "      <th>d</th>\n",
       "      <th>l</th>\n",
       "      <th>gf</th>\n",
       "      <th>ga</th>\n",
       "      <th>gd</th>\n",
       "      <th>pts</th>\n",
       "      <th>pts/mp</th>\n",
       "      <th>attendance</th>\n",
       "      <th>top_team_scorer</th>\n",
       "      <th>goalkeeper</th>\n",
       "      <th>notes</th>\n",
       "      <th>season</th>\n",
       "      <th>xg</th>\n",
       "      <th>xga</th>\n",
       "      <th>xgd</th>\n",
       "      <th>xgd/90</th>\n",
       "    </tr>\n",
       "  </thead>\n",
       "  <tbody>\n",
       "    <tr>\n",
       "      <th>215</th>\n",
       "      <td>16</td>\n",
       "      <td>Girona</td>\n",
       "      <td>38</td>\n",
       "      <td>11</td>\n",
       "      <td>8</td>\n",
       "      <td>19</td>\n",
       "      <td>44</td>\n",
       "      <td>60</td>\n",
       "      <td>-16</td>\n",
       "      <td>41</td>\n",
       "      <td>1.08</td>\n",
       "      <td>11657.0</td>\n",
       "      <td>Cristhian Stuani - 11</td>\n",
       "      <td>Paulo Gazzaniga</td>\n",
       "      <td>NaN</td>\n",
       "      <td>2024</td>\n",
       "      <td>42.5</td>\n",
       "      <td>50.4</td>\n",
       "      <td>-8.0</td>\n",
       "      <td>-0.21</td>\n",
       "    </tr>\n",
       "    <tr>\n",
       "      <th>216</th>\n",
       "      <td>17</td>\n",
       "      <td>Sevilla</td>\n",
       "      <td>38</td>\n",
       "      <td>10</td>\n",
       "      <td>11</td>\n",
       "      <td>17</td>\n",
       "      <td>42</td>\n",
       "      <td>55</td>\n",
       "      <td>-13</td>\n",
       "      <td>41</td>\n",
       "      <td>1.08</td>\n",
       "      <td>35619.0</td>\n",
       "      <td>Dodi Lukebakio - 11</td>\n",
       "      <td>Ørjan Nyland</td>\n",
       "      <td>NaN</td>\n",
       "      <td>2024</td>\n",
       "      <td>42.7</td>\n",
       "      <td>47.4</td>\n",
       "      <td>-4.7</td>\n",
       "      <td>-0.12</td>\n",
       "    </tr>\n",
       "    <tr>\n",
       "      <th>217</th>\n",
       "      <td>18</td>\n",
       "      <td>Leganés</td>\n",
       "      <td>38</td>\n",
       "      <td>9</td>\n",
       "      <td>13</td>\n",
       "      <td>16</td>\n",
       "      <td>39</td>\n",
       "      <td>56</td>\n",
       "      <td>-17</td>\n",
       "      <td>40</td>\n",
       "      <td>1.05</td>\n",
       "      <td>11135.0</td>\n",
       "      <td>Dani Raba - 8</td>\n",
       "      <td>Marko Dmitrović</td>\n",
       "      <td>Relegated</td>\n",
       "      <td>2024</td>\n",
       "      <td>36.0</td>\n",
       "      <td>59.4</td>\n",
       "      <td>-23.4</td>\n",
       "      <td>-0.62</td>\n",
       "    </tr>\n",
       "    <tr>\n",
       "      <th>218</th>\n",
       "      <td>19</td>\n",
       "      <td>Las Palmas</td>\n",
       "      <td>38</td>\n",
       "      <td>8</td>\n",
       "      <td>8</td>\n",
       "      <td>22</td>\n",
       "      <td>40</td>\n",
       "      <td>61</td>\n",
       "      <td>-21</td>\n",
       "      <td>32</td>\n",
       "      <td>0.84</td>\n",
       "      <td>23010.0</td>\n",
       "      <td>Fábio Silva - 10</td>\n",
       "      <td>Jasper Cillessen</td>\n",
       "      <td>Relegated</td>\n",
       "      <td>2024</td>\n",
       "      <td>36.3</td>\n",
       "      <td>66.8</td>\n",
       "      <td>-30.5</td>\n",
       "      <td>-0.80</td>\n",
       "    </tr>\n",
       "    <tr>\n",
       "      <th>219</th>\n",
       "      <td>20</td>\n",
       "      <td>Valladolid</td>\n",
       "      <td>38</td>\n",
       "      <td>4</td>\n",
       "      <td>4</td>\n",
       "      <td>30</td>\n",
       "      <td>26</td>\n",
       "      <td>90</td>\n",
       "      <td>-64</td>\n",
       "      <td>16</td>\n",
       "      <td>0.42</td>\n",
       "      <td>19831.0</td>\n",
       "      <td>Mamadou Sylla - 5</td>\n",
       "      <td>Karl Jakob Hein</td>\n",
       "      <td>Relegated</td>\n",
       "      <td>2024</td>\n",
       "      <td>34.6</td>\n",
       "      <td>67.6</td>\n",
       "      <td>-33.0</td>\n",
       "      <td>-0.87</td>\n",
       "    </tr>\n",
       "  </tbody>\n",
       "</table>\n",
       "</div>"
      ],
      "text/plain": [
       "     rk       squad  mp   w   d   l  gf  ga  gd  pts  pts/mp  attendance  \\\n",
       "215  16      Girona  38  11   8  19  44  60 -16   41    1.08     11657.0   \n",
       "216  17     Sevilla  38  10  11  17  42  55 -13   41    1.08     35619.0   \n",
       "217  18     Leganés  38   9  13  16  39  56 -17   40    1.05     11135.0   \n",
       "218  19  Las Palmas  38   8   8  22  40  61 -21   32    0.84     23010.0   \n",
       "219  20  Valladolid  38   4   4  30  26  90 -64   16    0.42     19831.0   \n",
       "\n",
       "           top_team_scorer        goalkeeper      notes  season    xg   xga  \\\n",
       "215  Cristhian Stuani - 11   Paulo Gazzaniga        NaN    2024  42.5  50.4   \n",
       "216    Dodi Lukebakio - 11      Ørjan Nyland        NaN    2024  42.7  47.4   \n",
       "217          Dani Raba - 8   Marko Dmitrović  Relegated    2024  36.0  59.4   \n",
       "218       Fábio Silva - 10  Jasper Cillessen  Relegated    2024  36.3  66.8   \n",
       "219      Mamadou Sylla - 5   Karl Jakob Hein  Relegated    2024  34.6  67.6   \n",
       "\n",
       "      xgd  xgd/90  \n",
       "215  -8.0   -0.21  \n",
       "216  -4.7   -0.12  \n",
       "217 -23.4   -0.62  \n",
       "218 -30.5   -0.80  \n",
       "219 -33.0   -0.87  "
      ]
     },
     "execution_count": 5,
     "metadata": {},
     "output_type": "execute_result"
    }
   ],
   "source": [
    "print(full_data.shape)\n",
    "full_data.tail(5)"
   ]
  },
  {
   "cell_type": "markdown",
   "id": "c7650173-f9d5-4a92-8f61-a9247c54708c",
   "metadata": {},
   "source": [
    "### ⚽ Consistency of Teams in La Liga\n",
    "This shows how many times each club appeared across 11 seasons (2014–2025).  \n",
    "\n",
    "**Use Case**:  \n",
    "- Identifies stable top-flight clubs (Real Madrid, Barcelona, Atlético).  \n",
    "- Highlights promoted/relegated teams (like Las Palmas, Valladolid).  \n",
    "- Useful for tracking team stability & long-term presence.  \n"
   ]
  },
  {
   "cell_type": "code",
   "execution_count": 6,
   "id": "961805f1",
   "metadata": {},
   "outputs": [
    {
     "data": {
      "text/plain": [
       "squad\n",
       "Barcelona          11\n",
       "Real Madrid        11\n",
       "Atlético Madrid    11\n",
       "Valencia           11\n",
       "Sevilla            11\n",
       "Villarreal         11\n",
       "Athletic Club      11\n",
       "Celta Vigo         11\n",
       "Real Sociedad      11\n",
       "Getafe             10\n",
       "Betis              10\n",
       "Espanyol            9\n",
       "Alavés              8\n",
       "Levante             7\n",
       "Rayo Vallecano      7\n",
       "Osasuna             7\n",
       "Granada             7\n",
       "Eibar               7\n",
       "Mallorca            5\n",
       "Valladolid          5\n",
       "Leganés             5\n",
       "Girona              5\n",
       "Las Palmas          5\n",
       "Elche               4\n",
       "Málaga              4\n",
       "Cádiz               4\n",
       "La Coruña           4\n",
       "Almería             3\n",
       "Sporting Gijón      2\n",
       "Huesca              2\n",
       "Córdoba             1\n",
       "Name: count, dtype: int64"
      ]
     },
     "execution_count": 6,
     "metadata": {},
     "output_type": "execute_result"
    }
   ],
   "source": [
    "# number of appearances for the past 11 seasons \n",
    "# if below 11 then the team was relegated at some point\n",
    "full_data['squad'].value_counts()"
   ]
  },
  {
   "cell_type": "code",
   "execution_count": 7,
   "id": "af94b45e",
   "metadata": {},
   "outputs": [
    {
     "data": {
      "text/plain": [
       "rk  squad          \n",
       "1   Barcelona          6\n",
       "    Real Madrid        4\n",
       "    Atlético Madrid    1\n",
       "2   Real Madrid        5\n",
       "    Barcelona          4\n",
       "    Atlético Madrid    2\n",
       "3   Atlético Madrid    7\n",
       "    Real Madrid        2\n",
       "    Barcelona          1\n",
       "    Girona             1\n",
       "Name: count, dtype: int64"
      ]
     },
     "execution_count": 7,
     "metadata": {},
     "output_type": "execute_result"
    }
   ],
   "source": [
    "# Top 3 ranking count per team\n",
    "full_data['squad'].groupby(full_data['rk']).value_counts().head(10)"
   ]
  },
  {
   "cell_type": "markdown",
   "id": "bfa35959-c4f7-4b1a-9f55-1613a66cc592",
   "metadata": {},
   "source": [
    "### 🏆 Top 3 Finishes Analysis\n",
    "We analyze which teams frequently finished in the **top 3 positions**.  \n",
    "\n",
    "**Use Case**:  \n",
    "- Identifies “elite” teams with consistent high performance.  \n",
    "- Valuable for sponsors & media focusing on top teams.  \n",
    "- Fans can compare dominance over years.  \n"
   ]
  },
  {
   "cell_type": "code",
   "execution_count": 8,
   "id": "08c7c9d6",
   "metadata": {},
   "outputs": [
    {
     "data": {
      "application/vnd.plotly.v1+json": {
       "config": {
        "plotlyServerURL": "https://plot.ly"
       },
       "data": [
        {
         "alignmentgroup": "True",
         "hovertemplate": "Team=%{x}<br>Finish Count=%{y}<br>Rank=%{marker.color}<extra></extra>",
         "legendgroup": "",
         "marker": {
          "color": {
           "bdata": "AQEBAgICAwMDAw==",
           "dtype": "i1"
          },
          "coloraxis": "coloraxis",
          "pattern": {
           "shape": ""
          }
         },
         "name": "",
         "offsetgroup": "",
         "orientation": "v",
         "showlegend": false,
         "textposition": "auto",
         "type": "bar",
         "x": [
          "Barcelona",
          "Real Madrid",
          "Atlético Madrid",
          "Real Madrid",
          "Barcelona",
          "Atlético Madrid",
          "Atlético Madrid",
          "Real Madrid",
          "Barcelona",
          "Girona"
         ],
         "xaxis": "x",
         "y": {
          "bdata": "BgQBBQQCBwIBAQ==",
          "dtype": "i1"
         },
         "yaxis": "y"
        }
       ],
       "layout": {
        "barmode": "group",
        "coloraxis": {
         "colorbar": {
          "title": {
           "text": "Rank"
          }
         },
         "colorscale": [
          [
           0,
           "#0d0887"
          ],
          [
           0.1111111111111111,
           "#46039f"
          ],
          [
           0.2222222222222222,
           "#7201a8"
          ],
          [
           0.3333333333333333,
           "#9c179e"
          ],
          [
           0.4444444444444444,
           "#bd3786"
          ],
          [
           0.5555555555555556,
           "#d8576b"
          ],
          [
           0.6666666666666666,
           "#ed7953"
          ],
          [
           0.7777777777777778,
           "#fb9f3a"
          ],
          [
           0.8888888888888888,
           "#fdca26"
          ],
          [
           1,
           "#f0f921"
          ]
         ]
        },
        "legend": {
         "tracegroupgap": 0
        },
        "template": {
         "data": {
          "bar": [
           {
            "error_x": {
             "color": "#2a3f5f"
            },
            "error_y": {
             "color": "#2a3f5f"
            },
            "marker": {
             "line": {
              "color": "#E5ECF6",
              "width": 0.5
             },
             "pattern": {
              "fillmode": "overlay",
              "size": 10,
              "solidity": 0.2
             }
            },
            "type": "bar"
           }
          ],
          "barpolar": [
           {
            "marker": {
             "line": {
              "color": "#E5ECF6",
              "width": 0.5
             },
             "pattern": {
              "fillmode": "overlay",
              "size": 10,
              "solidity": 0.2
             }
            },
            "type": "barpolar"
           }
          ],
          "carpet": [
           {
            "aaxis": {
             "endlinecolor": "#2a3f5f",
             "gridcolor": "white",
             "linecolor": "white",
             "minorgridcolor": "white",
             "startlinecolor": "#2a3f5f"
            },
            "baxis": {
             "endlinecolor": "#2a3f5f",
             "gridcolor": "white",
             "linecolor": "white",
             "minorgridcolor": "white",
             "startlinecolor": "#2a3f5f"
            },
            "type": "carpet"
           }
          ],
          "choropleth": [
           {
            "colorbar": {
             "outlinewidth": 0,
             "ticks": ""
            },
            "type": "choropleth"
           }
          ],
          "contour": [
           {
            "colorbar": {
             "outlinewidth": 0,
             "ticks": ""
            },
            "colorscale": [
             [
              0,
              "#0d0887"
             ],
             [
              0.1111111111111111,
              "#46039f"
             ],
             [
              0.2222222222222222,
              "#7201a8"
             ],
             [
              0.3333333333333333,
              "#9c179e"
             ],
             [
              0.4444444444444444,
              "#bd3786"
             ],
             [
              0.5555555555555556,
              "#d8576b"
             ],
             [
              0.6666666666666666,
              "#ed7953"
             ],
             [
              0.7777777777777778,
              "#fb9f3a"
             ],
             [
              0.8888888888888888,
              "#fdca26"
             ],
             [
              1,
              "#f0f921"
             ]
            ],
            "type": "contour"
           }
          ],
          "contourcarpet": [
           {
            "colorbar": {
             "outlinewidth": 0,
             "ticks": ""
            },
            "type": "contourcarpet"
           }
          ],
          "heatmap": [
           {
            "colorbar": {
             "outlinewidth": 0,
             "ticks": ""
            },
            "colorscale": [
             [
              0,
              "#0d0887"
             ],
             [
              0.1111111111111111,
              "#46039f"
             ],
             [
              0.2222222222222222,
              "#7201a8"
             ],
             [
              0.3333333333333333,
              "#9c179e"
             ],
             [
              0.4444444444444444,
              "#bd3786"
             ],
             [
              0.5555555555555556,
              "#d8576b"
             ],
             [
              0.6666666666666666,
              "#ed7953"
             ],
             [
              0.7777777777777778,
              "#fb9f3a"
             ],
             [
              0.8888888888888888,
              "#fdca26"
             ],
             [
              1,
              "#f0f921"
             ]
            ],
            "type": "heatmap"
           }
          ],
          "histogram": [
           {
            "marker": {
             "pattern": {
              "fillmode": "overlay",
              "size": 10,
              "solidity": 0.2
             }
            },
            "type": "histogram"
           }
          ],
          "histogram2d": [
           {
            "colorbar": {
             "outlinewidth": 0,
             "ticks": ""
            },
            "colorscale": [
             [
              0,
              "#0d0887"
             ],
             [
              0.1111111111111111,
              "#46039f"
             ],
             [
              0.2222222222222222,
              "#7201a8"
             ],
             [
              0.3333333333333333,
              "#9c179e"
             ],
             [
              0.4444444444444444,
              "#bd3786"
             ],
             [
              0.5555555555555556,
              "#d8576b"
             ],
             [
              0.6666666666666666,
              "#ed7953"
             ],
             [
              0.7777777777777778,
              "#fb9f3a"
             ],
             [
              0.8888888888888888,
              "#fdca26"
             ],
             [
              1,
              "#f0f921"
             ]
            ],
            "type": "histogram2d"
           }
          ],
          "histogram2dcontour": [
           {
            "colorbar": {
             "outlinewidth": 0,
             "ticks": ""
            },
            "colorscale": [
             [
              0,
              "#0d0887"
             ],
             [
              0.1111111111111111,
              "#46039f"
             ],
             [
              0.2222222222222222,
              "#7201a8"
             ],
             [
              0.3333333333333333,
              "#9c179e"
             ],
             [
              0.4444444444444444,
              "#bd3786"
             ],
             [
              0.5555555555555556,
              "#d8576b"
             ],
             [
              0.6666666666666666,
              "#ed7953"
             ],
             [
              0.7777777777777778,
              "#fb9f3a"
             ],
             [
              0.8888888888888888,
              "#fdca26"
             ],
             [
              1,
              "#f0f921"
             ]
            ],
            "type": "histogram2dcontour"
           }
          ],
          "mesh3d": [
           {
            "colorbar": {
             "outlinewidth": 0,
             "ticks": ""
            },
            "type": "mesh3d"
           }
          ],
          "parcoords": [
           {
            "line": {
             "colorbar": {
              "outlinewidth": 0,
              "ticks": ""
             }
            },
            "type": "parcoords"
           }
          ],
          "pie": [
           {
            "automargin": true,
            "type": "pie"
           }
          ],
          "scatter": [
           {
            "fillpattern": {
             "fillmode": "overlay",
             "size": 10,
             "solidity": 0.2
            },
            "type": "scatter"
           }
          ],
          "scatter3d": [
           {
            "line": {
             "colorbar": {
              "outlinewidth": 0,
              "ticks": ""
             }
            },
            "marker": {
             "colorbar": {
              "outlinewidth": 0,
              "ticks": ""
             }
            },
            "type": "scatter3d"
           }
          ],
          "scattercarpet": [
           {
            "marker": {
             "colorbar": {
              "outlinewidth": 0,
              "ticks": ""
             }
            },
            "type": "scattercarpet"
           }
          ],
          "scattergeo": [
           {
            "marker": {
             "colorbar": {
              "outlinewidth": 0,
              "ticks": ""
             }
            },
            "type": "scattergeo"
           }
          ],
          "scattergl": [
           {
            "marker": {
             "colorbar": {
              "outlinewidth": 0,
              "ticks": ""
             }
            },
            "type": "scattergl"
           }
          ],
          "scattermap": [
           {
            "marker": {
             "colorbar": {
              "outlinewidth": 0,
              "ticks": ""
             }
            },
            "type": "scattermap"
           }
          ],
          "scattermapbox": [
           {
            "marker": {
             "colorbar": {
              "outlinewidth": 0,
              "ticks": ""
             }
            },
            "type": "scattermapbox"
           }
          ],
          "scatterpolar": [
           {
            "marker": {
             "colorbar": {
              "outlinewidth": 0,
              "ticks": ""
             }
            },
            "type": "scatterpolar"
           }
          ],
          "scatterpolargl": [
           {
            "marker": {
             "colorbar": {
              "outlinewidth": 0,
              "ticks": ""
             }
            },
            "type": "scatterpolargl"
           }
          ],
          "scatterternary": [
           {
            "marker": {
             "colorbar": {
              "outlinewidth": 0,
              "ticks": ""
             }
            },
            "type": "scatterternary"
           }
          ],
          "surface": [
           {
            "colorbar": {
             "outlinewidth": 0,
             "ticks": ""
            },
            "colorscale": [
             [
              0,
              "#0d0887"
             ],
             [
              0.1111111111111111,
              "#46039f"
             ],
             [
              0.2222222222222222,
              "#7201a8"
             ],
             [
              0.3333333333333333,
              "#9c179e"
             ],
             [
              0.4444444444444444,
              "#bd3786"
             ],
             [
              0.5555555555555556,
              "#d8576b"
             ],
             [
              0.6666666666666666,
              "#ed7953"
             ],
             [
              0.7777777777777778,
              "#fb9f3a"
             ],
             [
              0.8888888888888888,
              "#fdca26"
             ],
             [
              1,
              "#f0f921"
             ]
            ],
            "type": "surface"
           }
          ],
          "table": [
           {
            "cells": {
             "fill": {
              "color": "#EBF0F8"
             },
             "line": {
              "color": "white"
             }
            },
            "header": {
             "fill": {
              "color": "#C8D4E3"
             },
             "line": {
              "color": "white"
             }
            },
            "type": "table"
           }
          ]
         },
         "layout": {
          "annotationdefaults": {
           "arrowcolor": "#2a3f5f",
           "arrowhead": 0,
           "arrowwidth": 1
          },
          "autotypenumbers": "strict",
          "coloraxis": {
           "colorbar": {
            "outlinewidth": 0,
            "ticks": ""
           }
          },
          "colorscale": {
           "diverging": [
            [
             0,
             "#8e0152"
            ],
            [
             0.1,
             "#c51b7d"
            ],
            [
             0.2,
             "#de77ae"
            ],
            [
             0.3,
             "#f1b6da"
            ],
            [
             0.4,
             "#fde0ef"
            ],
            [
             0.5,
             "#f7f7f7"
            ],
            [
             0.6,
             "#e6f5d0"
            ],
            [
             0.7,
             "#b8e186"
            ],
            [
             0.8,
             "#7fbc41"
            ],
            [
             0.9,
             "#4d9221"
            ],
            [
             1,
             "#276419"
            ]
           ],
           "sequential": [
            [
             0,
             "#0d0887"
            ],
            [
             0.1111111111111111,
             "#46039f"
            ],
            [
             0.2222222222222222,
             "#7201a8"
            ],
            [
             0.3333333333333333,
             "#9c179e"
            ],
            [
             0.4444444444444444,
             "#bd3786"
            ],
            [
             0.5555555555555556,
             "#d8576b"
            ],
            [
             0.6666666666666666,
             "#ed7953"
            ],
            [
             0.7777777777777778,
             "#fb9f3a"
            ],
            [
             0.8888888888888888,
             "#fdca26"
            ],
            [
             1,
             "#f0f921"
            ]
           ],
           "sequentialminus": [
            [
             0,
             "#0d0887"
            ],
            [
             0.1111111111111111,
             "#46039f"
            ],
            [
             0.2222222222222222,
             "#7201a8"
            ],
            [
             0.3333333333333333,
             "#9c179e"
            ],
            [
             0.4444444444444444,
             "#bd3786"
            ],
            [
             0.5555555555555556,
             "#d8576b"
            ],
            [
             0.6666666666666666,
             "#ed7953"
            ],
            [
             0.7777777777777778,
             "#fb9f3a"
            ],
            [
             0.8888888888888888,
             "#fdca26"
            ],
            [
             1,
             "#f0f921"
            ]
           ]
          },
          "colorway": [
           "#636efa",
           "#EF553B",
           "#00cc96",
           "#ab63fa",
           "#FFA15A",
           "#19d3f3",
           "#FF6692",
           "#B6E880",
           "#FF97FF",
           "#FECB52"
          ],
          "font": {
           "color": "#2a3f5f"
          },
          "geo": {
           "bgcolor": "white",
           "lakecolor": "white",
           "landcolor": "#E5ECF6",
           "showlakes": true,
           "showland": true,
           "subunitcolor": "white"
          },
          "hoverlabel": {
           "align": "left"
          },
          "hovermode": "closest",
          "mapbox": {
           "style": "light"
          },
          "paper_bgcolor": "white",
          "plot_bgcolor": "#E5ECF6",
          "polar": {
           "angularaxis": {
            "gridcolor": "white",
            "linecolor": "white",
            "ticks": ""
           },
           "bgcolor": "#E5ECF6",
           "radialaxis": {
            "gridcolor": "white",
            "linecolor": "white",
            "ticks": ""
           }
          },
          "scene": {
           "xaxis": {
            "backgroundcolor": "#E5ECF6",
            "gridcolor": "white",
            "gridwidth": 2,
            "linecolor": "white",
            "showbackground": true,
            "ticks": "",
            "zerolinecolor": "white"
           },
           "yaxis": {
            "backgroundcolor": "#E5ECF6",
            "gridcolor": "white",
            "gridwidth": 2,
            "linecolor": "white",
            "showbackground": true,
            "ticks": "",
            "zerolinecolor": "white"
           },
           "zaxis": {
            "backgroundcolor": "#E5ECF6",
            "gridcolor": "white",
            "gridwidth": 2,
            "linecolor": "white",
            "showbackground": true,
            "ticks": "",
            "zerolinecolor": "white"
           }
          },
          "shapedefaults": {
           "line": {
            "color": "#2a3f5f"
           }
          },
          "ternary": {
           "aaxis": {
            "gridcolor": "white",
            "linecolor": "white",
            "ticks": ""
           },
           "baxis": {
            "gridcolor": "white",
            "linecolor": "white",
            "ticks": ""
           },
           "bgcolor": "#E5ECF6",
           "caxis": {
            "gridcolor": "white",
            "linecolor": "white",
            "ticks": ""
           }
          },
          "title": {
           "x": 0.05
          },
          "xaxis": {
           "automargin": true,
           "gridcolor": "white",
           "linecolor": "white",
           "ticks": "",
           "title": {
            "standoff": 15
           },
           "zerolinecolor": "white",
           "zerolinewidth": 2
          },
          "yaxis": {
           "automargin": true,
           "gridcolor": "white",
           "linecolor": "white",
           "ticks": "",
           "title": {
            "standoff": 15
           },
           "zerolinecolor": "white",
           "zerolinewidth": 2
          }
         }
        },
        "title": {
         "text": "Top 3 Finishes by Team and Rank (Last 10 Years)"
        },
        "xaxis": {
         "anchor": "y",
         "categoryorder": "total descending",
         "domain": [
          0,
          1
         ],
         "title": {
          "text": "Team"
         }
        },
        "yaxis": {
         "anchor": "x",
         "domain": [
          0,
          1
         ],
         "title": {
          "text": "Finish Count"
         }
        }
       }
      },
      "image/png": "[encoded data removed]"
     },
     "metadata": {},
     "output_type": "display_data"
    }
   ],
   "source": [
    "# Get the top 3 ranks only\n",
    "ranking_counts = full_data['squad'].groupby(full_data['rk']).value_counts().reset_index(name='count')\n",
    "\n",
    "# Keep only top 3 ranks (optional if you're sure it’s only top 3)\n",
    "ranking_counts = ranking_counts[ranking_counts['rk'].isin([1,2,3])]\n",
    "\n",
    "# Plot\n",
    "fig = px.bar(ranking_counts, x='squad', y='count', color='rk',\n",
    "             barmode='group',\n",
    "             title='Top 3 Finishes by Team and Rank (Last 10 Years)',\n",
    "             labels={'squad': 'Team', 'count': 'Finish Count', 'rk': 'Rank'})\n",
    "\n",
    "fig.update_layout(xaxis={'categoryorder':'total descending'})\n",
    "fig.show()"
   ]
  },
  {
   "cell_type": "code",
   "execution_count": 9,
   "id": "09a4270f",
   "metadata": {},
   "outputs": [
    {
     "data": {
      "text/html": [
       "<div>\n",
       "<style scoped>\n",
       "    .dataframe tbody tr th:only-of-type {\n",
       "        vertical-align: middle;\n",
       "    }\n",
       "\n",
       "    .dataframe tbody tr th {\n",
       "        vertical-align: top;\n",
       "    }\n",
       "\n",
       "    .dataframe thead th {\n",
       "        text-align: right;\n",
       "    }\n",
       "</style>\n",
       "<table border=\"1\" class=\"dataframe\">\n",
       "  <thead>\n",
       "    <tr style=\"text-align: right;\">\n",
       "      <th></th>\n",
       "      <th>rk</th>\n",
       "      <th>mp</th>\n",
       "      <th>w</th>\n",
       "      <th>d</th>\n",
       "      <th>l</th>\n",
       "      <th>gf</th>\n",
       "      <th>ga</th>\n",
       "      <th>gd</th>\n",
       "      <th>pts</th>\n",
       "      <th>pts/mp</th>\n",
       "      <th>attendance</th>\n",
       "      <th>season</th>\n",
       "      <th>xg</th>\n",
       "      <th>xga</th>\n",
       "      <th>xgd</th>\n",
       "      <th>xgd/90</th>\n",
       "    </tr>\n",
       "  </thead>\n",
       "  <tbody>\n",
       "    <tr>\n",
       "      <th>count</th>\n",
       "      <td>220.000000</td>\n",
       "      <td>220.0</td>\n",
       "      <td>220.000000</td>\n",
       "      <td>220.000000</td>\n",
       "      <td>220.000000</td>\n",
       "      <td>220.000000</td>\n",
       "      <td>220.000000</td>\n",
       "      <td>220.00000</td>\n",
       "      <td>220.00000</td>\n",
       "      <td>220.000000</td>\n",
       "      <td>204.000000</td>\n",
       "      <td>220.000000</td>\n",
       "      <td>160.00000</td>\n",
       "      <td>160.000000</td>\n",
       "      <td>160.000000</td>\n",
       "      <td>160.000000</td>\n",
       "    </tr>\n",
       "    <tr>\n",
       "      <th>mean</th>\n",
       "      <td>10.500000</td>\n",
       "      <td>38.0</td>\n",
       "      <td>14.063636</td>\n",
       "      <td>9.872727</td>\n",
       "      <td>14.063636</td>\n",
       "      <td>49.900000</td>\n",
       "      <td>49.900000</td>\n",
       "      <td>0.00000</td>\n",
       "      <td>52.05000</td>\n",
       "      <td>1.370000</td>\n",
       "      <td>26453.098039</td>\n",
       "      <td>2019.000000</td>\n",
       "      <td>48.84250</td>\n",
       "      <td>48.843750</td>\n",
       "      <td>0.000000</td>\n",
       "      <td>-0.000312</td>\n",
       "    </tr>\n",
       "    <tr>\n",
       "      <th>std</th>\n",
       "      <td>5.779431</td>\n",
       "      <td>0.0</td>\n",
       "      <td>6.214987</td>\n",
       "      <td>2.914643</td>\n",
       "      <td>5.476854</td>\n",
       "      <td>17.750915</td>\n",
       "      <td>13.141277</td>\n",
       "      <td>26.75391</td>\n",
       "      <td>17.47411</td>\n",
       "      <td>0.459624</td>\n",
       "      <td>18088.531993</td>\n",
       "      <td>3.169489</td>\n",
       "      <td>11.62082</td>\n",
       "      <td>8.621326</td>\n",
       "      <td>17.129878</td>\n",
       "      <td>0.450948</td>\n",
       "    </tr>\n",
       "    <tr>\n",
       "      <th>min</th>\n",
       "      <td>1.000000</td>\n",
       "      <td>38.0</td>\n",
       "      <td>3.000000</td>\n",
       "      <td>2.000000</td>\n",
       "      <td>1.000000</td>\n",
       "      <td>22.000000</td>\n",
       "      <td>18.000000</td>\n",
       "      <td>-64.00000</td>\n",
       "      <td>16.00000</td>\n",
       "      <td>0.420000</td>\n",
       "      <td>91.000000</td>\n",
       "      <td>2014.000000</td>\n",
       "      <td>29.30000</td>\n",
       "      <td>32.500000</td>\n",
       "      <td>-33.000000</td>\n",
       "      <td>-0.870000</td>\n",
       "    </tr>\n",
       "    <tr>\n",
       "      <th>25%</th>\n",
       "      <td>5.750000</td>\n",
       "      <td>38.0</td>\n",
       "      <td>10.000000</td>\n",
       "      <td>8.000000</td>\n",
       "      <td>10.000000</td>\n",
       "      <td>38.000000</td>\n",
       "      <td>41.000000</td>\n",
       "      <td>-17.00000</td>\n",
       "      <td>41.00000</td>\n",
       "      <td>1.080000</td>\n",
       "      <td>13677.500000</td>\n",
       "      <td>2016.000000</td>\n",
       "      <td>40.57500</td>\n",
       "      <td>42.875000</td>\n",
       "      <td>-11.000000</td>\n",
       "      <td>-0.290000</td>\n",
       "    </tr>\n",
       "    <tr>\n",
       "      <th>50%</th>\n",
       "      <td>10.500000</td>\n",
       "      <td>38.0</td>\n",
       "      <td>13.000000</td>\n",
       "      <td>10.000000</td>\n",
       "      <td>15.000000</td>\n",
       "      <td>46.000000</td>\n",
       "      <td>50.000000</td>\n",
       "      <td>-6.00000</td>\n",
       "      <td>48.50000</td>\n",
       "      <td>1.275000</td>\n",
       "      <td>19957.000000</td>\n",
       "      <td>2019.000000</td>\n",
       "      <td>45.85000</td>\n",
       "      <td>48.300000</td>\n",
       "      <td>-3.150000</td>\n",
       "      <td>-0.080000</td>\n",
       "    </tr>\n",
       "    <tr>\n",
       "      <th>75%</th>\n",
       "      <td>15.250000</td>\n",
       "      <td>38.0</td>\n",
       "      <td>17.250000</td>\n",
       "      <td>12.000000</td>\n",
       "      <td>18.000000</td>\n",
       "      <td>57.000000</td>\n",
       "      <td>58.000000</td>\n",
       "      <td>13.00000</td>\n",
       "      <td>61.00000</td>\n",
       "      <td>1.610000</td>\n",
       "      <td>37320.500000</td>\n",
       "      <td>2022.000000</td>\n",
       "      <td>53.97500</td>\n",
       "      <td>54.425000</td>\n",
       "      <td>11.000000</td>\n",
       "      <td>0.292500</td>\n",
       "    </tr>\n",
       "    <tr>\n",
       "      <th>max</th>\n",
       "      <td>20.000000</td>\n",
       "      <td>38.0</td>\n",
       "      <td>30.000000</td>\n",
       "      <td>18.000000</td>\n",
       "      <td>30.000000</td>\n",
       "      <td>118.000000</td>\n",
       "      <td>94.000000</td>\n",
       "      <td>89.00000</td>\n",
       "      <td>95.00000</td>\n",
       "      <td>2.500000</td>\n",
       "      <td>83498.000000</td>\n",
       "      <td>2024.000000</td>\n",
       "      <td>91.50000</td>\n",
       "      <td>76.200000</td>\n",
       "      <td>49.500000</td>\n",
       "      <td>1.300000</td>\n",
       "    </tr>\n",
       "  </tbody>\n",
       "</table>\n",
       "</div>"
      ],
      "text/plain": [
       "               rk     mp           w           d           l          gf  \\\n",
       "count  220.000000  220.0  220.000000  220.000000  220.000000  220.000000   \n",
       "mean    10.500000   38.0   14.063636    9.872727   14.063636   49.900000   \n",
       "std      5.779431    0.0    6.214987    2.914643    5.476854   17.750915   \n",
       "min      1.000000   38.0    3.000000    2.000000    1.000000   22.000000   \n",
       "25%      5.750000   38.0   10.000000    8.000000   10.000000   38.000000   \n",
       "50%     10.500000   38.0   13.000000   10.000000   15.000000   46.000000   \n",
       "75%     15.250000   38.0   17.250000   12.000000   18.000000   57.000000   \n",
       "max     20.000000   38.0   30.000000   18.000000   30.000000  118.000000   \n",
       "\n",
       "               ga         gd        pts      pts/mp    attendance  \\\n",
       "count  220.000000  220.00000  220.00000  220.000000    204.000000   \n",
       "mean    49.900000    0.00000   52.05000    1.370000  26453.098039   \n",
       "std     13.141277   26.75391   17.47411    0.459624  18088.531993   \n",
       "min     18.000000  -64.00000   16.00000    0.420000     91.000000   \n",
       "25%     41.000000  -17.00000   41.00000    1.080000  13677.500000   \n",
       "50%     50.000000   -6.00000   48.50000    1.275000  19957.000000   \n",
       "75%     58.000000   13.00000   61.00000    1.610000  37320.500000   \n",
       "max     94.000000   89.00000   95.00000    2.500000  83498.000000   \n",
       "\n",
       "            season         xg         xga         xgd      xgd/90  \n",
       "count   220.000000  160.00000  160.000000  160.000000  160.000000  \n",
       "mean   2019.000000   48.84250   48.843750    0.000000   -0.000312  \n",
       "std       3.169489   11.62082    8.621326   17.129878    0.450948  \n",
       "min    2014.000000   29.30000   32.500000  -33.000000   -0.870000  \n",
       "25%    2016.000000   40.57500   42.875000  -11.000000   -0.290000  \n",
       "50%    2019.000000   45.85000   48.300000   -3.150000   -0.080000  \n",
       "75%    2022.000000   53.97500   54.425000   11.000000    0.292500  \n",
       "max    2024.000000   91.50000   76.200000   49.500000    1.300000  "
      ]
     },
     "execution_count": 9,
     "metadata": {},
     "output_type": "execute_result"
    }
   ],
   "source": [
    "\n",
    "full_data.describe()"
   ]
  },
  {
   "cell_type": "code",
   "execution_count": 10,
   "id": "a7c8cc18-61bc-4777-a551-7ea6efbcb90a",
   "metadata": {},
   "outputs": [
    {
     "data": {
      "image/png": "[encoded data removed]",
      "text/plain": [
       "<Figure size 800x500 with 1 Axes>"
      ]
     },
     "metadata": {},
     "output_type": "display_data"
    }
   ],
   "source": [
    "import seaborn as sns\n",
    "\n",
    "# Histogram of Points\n",
    "plt.figure(figsize=(8,5))\n",
    "sns.histplot(full_data[\"pts\"], bins=20, kde=True, color=\"blue\")\n",
    "plt.title(\"Distribution of Points Across Teams & Seasons\")\n",
    "plt.show()\n"
   ]
  },
  {
   "cell_type": "code",
   "execution_count": 11,
   "id": "28302631-2b9f-4823-9833-26416e486af3",
   "metadata": {},
   "outputs": [
    {
     "data": {
      "image/png": "[encoded data removed]",
      "text/plain": [
       "<Figure size 800x500 with 1 Axes>"
      ]
     },
     "metadata": {},
     "output_type": "display_data"
    }
   ],
   "source": [
    "# Goals For vs Points\n",
    "plt.figure(figsize=(8,5))\n",
    "sns.scatterplot(data=full_data, x=\"gf\", y=\"pts\", hue=\"season\", palette=\"tab20\", alpha=0.7)\n",
    "plt.title(\"Goals Scored vs Points\")\n",
    "plt.show()"
   ]
  },
  {
   "cell_type": "code",
   "execution_count": 12,
   "id": "e743c9de-bae9-4184-a406-7e8b212b7b89",
   "metadata": {},
   "outputs": [
    {
     "data": {
      "image/png": "[encoded data removed]",
      "text/plain": [
       "<Figure size 1000x600 with 2 Axes>"
      ]
     },
     "metadata": {},
     "output_type": "display_data"
    }
   ],
   "source": [
    "# Correlation Heatmap\n",
    "plt.figure(figsize=(10,6))\n",
    "sns.heatmap(full_data[[\"w\",\"d\",\"l\",\"gf\",\"ga\",\"gd\",\"pts\",\"pts/mp\"]].corr(), annot=True, cmap=\"coolwarm\", fmt=\".2f\")\n",
    "plt.title(\"Correlation Between Key Performance Metrics\")\n",
    "plt.show()"
   ]
  },
  {
   "cell_type": "markdown",
   "id": "31c4a1a9-696a-486b-a224-637df8955304",
   "metadata": {},
   "source": [
    "### 👑 Champions Across Seasons\n",
    "This table shows the La Liga champions for each season (2014–2024).  \n",
    "\n",
    "**Use Case**:  \n",
    "- Highlights the dominance of Barcelona & Real Madrid.  \n",
    "- Provides a historical baseline for predictions.  \n",
    "- Supports media storytelling about rivalries & title races.  \n"
   ]
  },
  {
   "cell_type": "code",
   "execution_count": 13,
   "id": "ab9f36c4",
   "metadata": {},
   "outputs": [
    {
     "name": "stdout",
     "output_type": "stream",
     "text": [
      "     season            squad  pts  pts/mp  gd\n",
      "0      2014        Barcelona   94    2.47  89\n",
      "20     2015        Barcelona   91    2.39  83\n",
      "40     2016      Real Madrid   93    2.45  65\n",
      "60     2017        Barcelona   93    2.45  70\n",
      "80     2018        Barcelona   87    2.29  54\n",
      "100    2019      Real Madrid   87    2.29  45\n",
      "120    2020  Atlético Madrid   86    2.26  42\n",
      "140    2021      Real Madrid   86    2.26  49\n",
      "160    2022        Barcelona   88    2.32  50\n",
      "180    2023      Real Madrid   95    2.50  61\n",
      "200    2024        Barcelona   88    2.32  63\n"
     ]
    }
   ],
   "source": [
    "####### Winning teams of the past 10 years\n",
    "\n",
    "# Filter the dataset for teams that finished 1st each season\n",
    "winning_teams = full_data[full_data[\"rk\"] == 1][[\"season\", \"squad\", \"pts\", \"pts/mp\", \"gd\"]].sort_values(\"season\")\n",
    "\n",
    "# Display the results\n",
    "print(winning_teams)"
   ]
  },
  {
   "cell_type": "code",
   "execution_count": 14,
   "id": "0ee359f8-8cf1-4cce-b1bf-01e5d1076eab",
   "metadata": {},
   "outputs": [
    {
     "data": {
      "image/png": "[encoded data removed]",
      "text/plain": [
       "<Figure size 800x500 with 1 Axes>"
      ]
     },
     "metadata": {},
     "output_type": "display_data"
    }
   ],
   "source": [
    "# Titles per team\n",
    "titles = winning_teams[\"squad\"].value_counts()\n",
    "titles.plot(kind=\"bar\", figsize=(8,5), color=\"gold\")\n",
    "plt.title(\"La Liga Titles (Last 11 Seasons)\")\n",
    "plt.ylabel(\"Titles\")\n",
    "plt.show()"
   ]
  },
  {
   "cell_type": "markdown",
   "id": "1a628bc9-0dda-484d-befd-bc83de4749bd",
   "metadata": {},
   "source": [
    "### ⚖️ Competitive Balance in La Liga\n",
    "We count how many titles each team has won and measure league balance using the **Gini coefficient** of points.  \n",
    "\n",
    "**Use Case**:  \n",
    "- High Gini → league dominated by few teams.  \n",
    "- Low Gini → more balanced competition.  \n",
    "- Important for league governance, fairness debates, and sponsorship decisions.  \n"
   ]
  },
  {
   "cell_type": "code",
   "execution_count": 15,
   "id": "3b73eae7-370d-4b56-b165-6921305fbc09",
   "metadata": {},
   "outputs": [
    {
     "data": {
      "image/png": "[encoded data removed]",
      "text/plain": [
       "<Figure size 800x500 with 1 Axes>"
      ]
     },
     "metadata": {},
     "output_type": "display_data"
    }
   ],
   "source": [
    "# Competitive balance (Gini coefficient of points each season)\n",
    "from itertools import groupby\n",
    "import numpy as np\n",
    "\n",
    "def gini(array):\n",
    "    array = np.sort(array)\n",
    "    n = len(array)\n",
    "    cumx = np.cumsum(array)\n",
    "    return (n+1 - 2*np.sum(cumx)/cumx[-1]) / n\n",
    "\n",
    "gini_scores = full_data.groupby(\"season\")[\"pts\"].apply(gini)\n",
    "plt.figure(figsize=(8,5))\n",
    "plt.plot(gini_scores.index, gini_scores.values, marker=\"o\")\n",
    "plt.title(\"Competitive Balance (Gini of Points per Season)\")\n",
    "plt.ylabel(\"Gini Coefficient (Higher = Less Balanced)\")\n",
    "plt.show()"
   ]
  },
  {
   "cell_type": "code",
   "execution_count": 16,
   "id": "0c4eb659",
   "metadata": {},
   "outputs": [
    {
     "data": {
      "text/html": [
       "<div>\n",
       "<style scoped>\n",
       "    .dataframe tbody tr th:only-of-type {\n",
       "        vertical-align: middle;\n",
       "    }\n",
       "\n",
       "    .dataframe tbody tr th {\n",
       "        vertical-align: top;\n",
       "    }\n",
       "\n",
       "    .dataframe thead th {\n",
       "        text-align: right;\n",
       "    }\n",
       "</style>\n",
       "<table border=\"1\" class=\"dataframe\">\n",
       "  <thead>\n",
       "    <tr style=\"text-align: right;\">\n",
       "      <th></th>\n",
       "      <th>rk</th>\n",
       "      <th>squad</th>\n",
       "      <th>mp</th>\n",
       "      <th>w</th>\n",
       "      <th>d</th>\n",
       "      <th>l</th>\n",
       "      <th>gf</th>\n",
       "      <th>ga</th>\n",
       "      <th>gd</th>\n",
       "      <th>pts</th>\n",
       "      <th>pts/mp</th>\n",
       "      <th>attendance</th>\n",
       "      <th>top_team_scorer</th>\n",
       "      <th>goalkeeper</th>\n",
       "      <th>notes</th>\n",
       "      <th>season</th>\n",
       "      <th>xg</th>\n",
       "      <th>xga</th>\n",
       "      <th>xgd</th>\n",
       "      <th>xgd/90</th>\n",
       "    </tr>\n",
       "  </thead>\n",
       "  <tbody>\n",
       "    <tr>\n",
       "      <th>215</th>\n",
       "      <td>16</td>\n",
       "      <td>Girona</td>\n",
       "      <td>38</td>\n",
       "      <td>11</td>\n",
       "      <td>8</td>\n",
       "      <td>19</td>\n",
       "      <td>44</td>\n",
       "      <td>60</td>\n",
       "      <td>-16</td>\n",
       "      <td>41</td>\n",
       "      <td>1.08</td>\n",
       "      <td>11657.0</td>\n",
       "      <td>Cristhian Stuani - 11</td>\n",
       "      <td>Paulo Gazzaniga</td>\n",
       "      <td>NaN</td>\n",
       "      <td>2024</td>\n",
       "      <td>42.5</td>\n",
       "      <td>50.4</td>\n",
       "      <td>-8.0</td>\n",
       "      <td>-0.21</td>\n",
       "    </tr>\n",
       "    <tr>\n",
       "      <th>216</th>\n",
       "      <td>17</td>\n",
       "      <td>Sevilla</td>\n",
       "      <td>38</td>\n",
       "      <td>10</td>\n",
       "      <td>11</td>\n",
       "      <td>17</td>\n",
       "      <td>42</td>\n",
       "      <td>55</td>\n",
       "      <td>-13</td>\n",
       "      <td>41</td>\n",
       "      <td>1.08</td>\n",
       "      <td>35619.0</td>\n",
       "      <td>Dodi Lukebakio - 11</td>\n",
       "      <td>Ørjan Nyland</td>\n",
       "      <td>NaN</td>\n",
       "      <td>2024</td>\n",
       "      <td>42.7</td>\n",
       "      <td>47.4</td>\n",
       "      <td>-4.7</td>\n",
       "      <td>-0.12</td>\n",
       "    </tr>\n",
       "    <tr>\n",
       "      <th>217</th>\n",
       "      <td>18</td>\n",
       "      <td>Leganés</td>\n",
       "      <td>38</td>\n",
       "      <td>9</td>\n",
       "      <td>13</td>\n",
       "      <td>16</td>\n",
       "      <td>39</td>\n",
       "      <td>56</td>\n",
       "      <td>-17</td>\n",
       "      <td>40</td>\n",
       "      <td>1.05</td>\n",
       "      <td>11135.0</td>\n",
       "      <td>Dani Raba - 8</td>\n",
       "      <td>Marko Dmitrović</td>\n",
       "      <td>Relegated</td>\n",
       "      <td>2024</td>\n",
       "      <td>36.0</td>\n",
       "      <td>59.4</td>\n",
       "      <td>-23.4</td>\n",
       "      <td>-0.62</td>\n",
       "    </tr>\n",
       "    <tr>\n",
       "      <th>218</th>\n",
       "      <td>19</td>\n",
       "      <td>Las Palmas</td>\n",
       "      <td>38</td>\n",
       "      <td>8</td>\n",
       "      <td>8</td>\n",
       "      <td>22</td>\n",
       "      <td>40</td>\n",
       "      <td>61</td>\n",
       "      <td>-21</td>\n",
       "      <td>32</td>\n",
       "      <td>0.84</td>\n",
       "      <td>23010.0</td>\n",
       "      <td>Fábio Silva - 10</td>\n",
       "      <td>Jasper Cillessen</td>\n",
       "      <td>Relegated</td>\n",
       "      <td>2024</td>\n",
       "      <td>36.3</td>\n",
       "      <td>66.8</td>\n",
       "      <td>-30.5</td>\n",
       "      <td>-0.80</td>\n",
       "    </tr>\n",
       "    <tr>\n",
       "      <th>219</th>\n",
       "      <td>20</td>\n",
       "      <td>Valladolid</td>\n",
       "      <td>38</td>\n",
       "      <td>4</td>\n",
       "      <td>4</td>\n",
       "      <td>30</td>\n",
       "      <td>26</td>\n",
       "      <td>90</td>\n",
       "      <td>-64</td>\n",
       "      <td>16</td>\n",
       "      <td>0.42</td>\n",
       "      <td>19831.0</td>\n",
       "      <td>Mamadou Sylla - 5</td>\n",
       "      <td>Karl Jakob Hein</td>\n",
       "      <td>Relegated</td>\n",
       "      <td>2024</td>\n",
       "      <td>34.6</td>\n",
       "      <td>67.6</td>\n",
       "      <td>-33.0</td>\n",
       "      <td>-0.87</td>\n",
       "    </tr>\n",
       "  </tbody>\n",
       "</table>\n",
       "</div>"
      ],
      "text/plain": [
       "     rk       squad  mp   w   d   l  gf  ga  gd  pts  pts/mp  attendance  \\\n",
       "215  16      Girona  38  11   8  19  44  60 -16   41    1.08     11657.0   \n",
       "216  17     Sevilla  38  10  11  17  42  55 -13   41    1.08     35619.0   \n",
       "217  18     Leganés  38   9  13  16  39  56 -17   40    1.05     11135.0   \n",
       "218  19  Las Palmas  38   8   8  22  40  61 -21   32    0.84     23010.0   \n",
       "219  20  Valladolid  38   4   4  30  26  90 -64   16    0.42     19831.0   \n",
       "\n",
       "           top_team_scorer        goalkeeper      notes  season    xg   xga  \\\n",
       "215  Cristhian Stuani - 11   Paulo Gazzaniga        NaN    2024  42.5  50.4   \n",
       "216    Dodi Lukebakio - 11      Ørjan Nyland        NaN    2024  42.7  47.4   \n",
       "217          Dani Raba - 8   Marko Dmitrović  Relegated    2024  36.0  59.4   \n",
       "218       Fábio Silva - 10  Jasper Cillessen  Relegated    2024  36.3  66.8   \n",
       "219      Mamadou Sylla - 5   Karl Jakob Hein  Relegated    2024  34.6  67.6   \n",
       "\n",
       "      xgd  xgd/90  \n",
       "215  -8.0   -0.21  \n",
       "216  -4.7   -0.12  \n",
       "217 -23.4   -0.62  \n",
       "218 -30.5   -0.80  \n",
       "219 -33.0   -0.87  "
      ]
     },
     "execution_count": 16,
     "metadata": {},
     "output_type": "execute_result"
    }
   ],
   "source": [
    "full_data.tail(5)"
   ]
  },
  {
   "cell_type": "code",
   "execution_count": 17,
   "id": "b66eb874",
   "metadata": {},
   "outputs": [
    {
     "name": "stdout",
     "output_type": "stream",
     "text": [
      "Average Pts/MP for past 10 winning teams (excluding this year): 2.37\n"
     ]
    }
   ],
   "source": [
    "# Filter for winning teams from the past 10 years, excluding the current season\n",
    "winning_teams_past_10 = full_data[(full_data[\"rk\"] == 1) & (full_data[\"season\"] < 2024)]\n",
    "\n",
    "# Compute the average 'pts/mp' for the past 10 winning teams\n",
    "avg_pts_mp_winners = winning_teams_past_10[\"pts/mp\"].mean()\n",
    "\n",
    "# Display the result\n",
    "print(f\"Average Pts/MP for past 10 winning teams (excluding this year): {avg_pts_mp_winners:.2f}\")"
   ]
  },
  {
   "cell_type": "code",
   "execution_count": 18,
   "id": "6202ae82",
   "metadata": {},
   "outputs": [],
   "source": [
    "# Convert 'rk' to binary (1 if team won the league, 0 otherwise)\n",
    "full_data[\"is_champion\"] = (full_data[\"rk\"] == 1).astype(int)\n",
    "\n",
    "# Filter only championship-winning teams\n",
    "champions_only = full_data[full_data[\"is_champion\"] == 1]"
   ]
  },
  {
   "cell_type": "code",
   "execution_count": 19,
   "id": "1c932bd4",
   "metadata": {},
   "outputs": [
    {
     "data": {
      "text/html": [
       "<div>\n",
       "<style scoped>\n",
       "    .dataframe tbody tr th:only-of-type {\n",
       "        vertical-align: middle;\n",
       "    }\n",
       "\n",
       "    .dataframe tbody tr th {\n",
       "        vertical-align: top;\n",
       "    }\n",
       "\n",
       "    .dataframe thead th {\n",
       "        text-align: right;\n",
       "    }\n",
       "</style>\n",
       "<table border=\"1\" class=\"dataframe\">\n",
       "  <thead>\n",
       "    <tr style=\"text-align: right;\">\n",
       "      <th></th>\n",
       "      <th>rk</th>\n",
       "      <th>squad</th>\n",
       "      <th>mp</th>\n",
       "      <th>w</th>\n",
       "      <th>d</th>\n",
       "      <th>l</th>\n",
       "      <th>gf</th>\n",
       "      <th>ga</th>\n",
       "      <th>gd</th>\n",
       "      <th>pts</th>\n",
       "      <th>pts/mp</th>\n",
       "      <th>attendance</th>\n",
       "      <th>top_team_scorer</th>\n",
       "      <th>goalkeeper</th>\n",
       "      <th>notes</th>\n",
       "      <th>season</th>\n",
       "      <th>xg</th>\n",
       "      <th>xga</th>\n",
       "      <th>xgd</th>\n",
       "      <th>xgd/90</th>\n",
       "      <th>is_champion</th>\n",
       "    </tr>\n",
       "  </thead>\n",
       "  <tbody>\n",
       "    <tr>\n",
       "      <th>0</th>\n",
       "      <td>1</td>\n",
       "      <td>Barcelona</td>\n",
       "      <td>38</td>\n",
       "      <td>30</td>\n",
       "      <td>4</td>\n",
       "      <td>4</td>\n",
       "      <td>110</td>\n",
       "      <td>21</td>\n",
       "      <td>89</td>\n",
       "      <td>94</td>\n",
       "      <td>2.47</td>\n",
       "      <td>77632.0</td>\n",
       "      <td>Lionel Messi - 43</td>\n",
       "      <td>Claudio Bravo</td>\n",
       "      <td>→ Champions League via Champions League win</td>\n",
       "      <td>2014</td>\n",
       "      <td>NaN</td>\n",
       "      <td>NaN</td>\n",
       "      <td>NaN</td>\n",
       "      <td>NaN</td>\n",
       "      <td>1</td>\n",
       "    </tr>\n",
       "    <tr>\n",
       "      <th>1</th>\n",
       "      <td>2</td>\n",
       "      <td>Real Madrid</td>\n",
       "      <td>38</td>\n",
       "      <td>30</td>\n",
       "      <td>2</td>\n",
       "      <td>6</td>\n",
       "      <td>118</td>\n",
       "      <td>38</td>\n",
       "      <td>80</td>\n",
       "      <td>92</td>\n",
       "      <td>2.42</td>\n",
       "      <td>73545.0</td>\n",
       "      <td>Cristiano Ronaldo - 48</td>\n",
       "      <td>Iker Casillas</td>\n",
       "      <td>→ Champions League via league finish</td>\n",
       "      <td>2014</td>\n",
       "      <td>NaN</td>\n",
       "      <td>NaN</td>\n",
       "      <td>NaN</td>\n",
       "      <td>NaN</td>\n",
       "      <td>0</td>\n",
       "    </tr>\n",
       "  </tbody>\n",
       "</table>\n",
       "</div>"
      ],
      "text/plain": [
       "   rk        squad  mp   w  d  l   gf  ga  gd  pts  pts/mp  attendance  \\\n",
       "0   1    Barcelona  38  30  4  4  110  21  89   94    2.47     77632.0   \n",
       "1   2  Real Madrid  38  30  2  6  118  38  80   92    2.42     73545.0   \n",
       "\n",
       "          top_team_scorer     goalkeeper  \\\n",
       "0       Lionel Messi - 43  Claudio Bravo   \n",
       "1  Cristiano Ronaldo - 48  Iker Casillas   \n",
       "\n",
       "                                         notes  season  xg  xga  xgd  xgd/90  \\\n",
       "0  → Champions League via Champions League win    2014 NaN  NaN  NaN     NaN   \n",
       "1         → Champions League via league finish    2014 NaN  NaN  NaN     NaN   \n",
       "\n",
       "   is_champion  \n",
       "0            1  \n",
       "1            0  "
      ]
     },
     "execution_count": 19,
     "metadata": {},
     "output_type": "execute_result"
    }
   ],
   "source": [
    "full_data.head(2)"
   ]
  },
  {
   "cell_type": "code",
   "execution_count": 20,
   "id": "f4405586",
   "metadata": {},
   "outputs": [
    {
     "name": "stdout",
     "output_type": "stream",
     "text": [
      "Mean of 'pts/mp': 2.36\n"
     ]
    }
   ],
   "source": [
    "# Calculate the mean of 'pts/mp'\n",
    "mean_pts_mp = champions_only[\"pts/mp\"].mean()\n",
    "\n",
    "print(f\"Mean of 'pts/mp': {mean_pts_mp:.2f}\")"
   ]
  },
  {
   "cell_type": "markdown",
   "id": "775db0d0-4d30-42a2-baea-a8a21d392be3",
   "metadata": {},
   "source": [
    "### 📈 Champions' Points Per Match Trend\n",
    "We track how many points per match the champions achieved each year.  \n",
    "\n",
    "**Use Case**:  \n",
    "- Shows if winning La Liga is getting harder or easier.  \n",
    "- Helps compare modern champions to past ones.  \n",
    "- Useful for tactical analysts and journalists.  \n"
   ]
  },
  {
   "cell_type": "code",
   "execution_count": 21,
   "id": "894c5beb",
   "metadata": {},
   "outputs": [
    {
     "data": {
      "image/png": "[encoded data removed]",
      "text/plain": [
       "<Figure size 1000x500 with 1 Axes>"
      ]
     },
     "metadata": {},
     "output_type": "display_data"
    }
   ],
   "source": [
    "# Plot trend of 'pts/mp' for champions over the years\n",
    "plt.figure(figsize=(10, 5))\n",
    "plt.plot(champions_only[\"season\"], champions_only[\"pts/mp\"], marker=\"o\", linestyle=\"-\", color=\"b\")\n",
    "plt.axhline(y=mean_pts_mp, color='r', linestyle='-', label=f'Mean: {mean_pts_mp:.2f}')\n",
    "plt.xlabel(\"Season\")\n",
    "plt.ylabel(\"Points Per Match (Pts/MP)\")\n",
    "plt.title(\"Trend of Pts/MP for League Winners Over Time\")\n",
    "plt.grid(True)\n",
    "plt.legend()\n",
    "plt.show()"
   ]
  },
  {
   "cell_type": "markdown",
   "id": "890ebb6a-b085-4c40-af8c-f5df8e4c3748",
   "metadata": {},
   "source": [
    "### 🎯 Efficiency: xGD vs Actual Points\n",
    "We compare **Expected Goal Difference (xGD)** to actual points.  \n",
    "\n",
    "**Use Case**:  \n",
    "- Overperformers: efficient or lucky teams.  \n",
    "- Underperformers: wasteful finishing or poor defense.  \n",
    "- Used in scouting, tactical analysis, and predictive modeling.  \n"
   ]
  },
  {
   "cell_type": "code",
   "execution_count": 22,
   "id": "ee751466-8adf-40ee-a487-adec12bfcfb7",
   "metadata": {},
   "outputs": [
    {
     "data": {
      "image/png": "[encoded data removed]",
      "text/plain": [
       "<Figure size 800x500 with 1 Axes>"
      ]
     },
     "metadata": {},
     "output_type": "display_data"
    },
    {
     "name": "stdout",
     "output_type": "stream",
     "text": [
      "     season            squad   xgd  pts\n",
      "0      2014        Barcelona   NaN   94\n",
      "20     2015        Barcelona   NaN   91\n",
      "40     2016      Real Madrid   NaN   93\n",
      "60     2017        Barcelona  41.6   93\n",
      "80     2018        Barcelona  30.5   87\n",
      "100    2019      Real Madrid  34.6   87\n",
      "120    2020  Atlético Madrid  15.7   86\n",
      "140    2021      Real Madrid  27.8   86\n",
      "160    2022        Barcelona  42.3   88\n",
      "180    2023      Real Madrid  33.4   95\n",
      "200    2024        Barcelona  49.5   88\n"
     ]
    }
   ],
   "source": [
    "plt.figure(figsize=(8,5))\n",
    "sns.scatterplot(data=full_data, x=\"xgd\", y=\"pts\", hue=\"rk\", palette=\"viridis\", alpha=0.7)\n",
    "plt.title(\"Expected Goal Difference (xGD) vs Points\")\n",
    "plt.xlabel(\"xGD\")\n",
    "plt.ylabel(\"Points\")\n",
    "plt.show()\n",
    "\n",
    "champions_xgd = champions_only[[\"season\",\"squad\",\"xgd\",\"pts\"]]\n",
    "print(champions_xgd)\n"
   ]
  },
  {
   "cell_type": "markdown",
   "id": "bfc5a472-10d6-4543-9b49-1ef97de56ec6",
   "metadata": {},
   "source": [
    "### 🚨 Relegation Insights\n",
    "We compare stats of relegated vs surviving teams and analyze the points threshold for survival.  \n",
    "\n",
    "**Use Case**:  \n",
    "- Helps clubs know “danger zone” performance.  \n",
    "- Benchmarks survival chances mid-season.  \n",
    "- Fans/media get insight into “40 points safety rule.”  \n"
   ]
  },
  {
   "cell_type": "code",
   "execution_count": 23,
   "id": "f7bc5d9a-7d97-43f2-87d5-0495c28ca523",
   "metadata": {},
   "outputs": [
    {
     "name": "stdout",
     "output_type": "stream",
     "text": [
      "Avg stats (Relegated):\n",
      "pts              30.303030\n",
      "gd              -30.909091\n",
      "gf               35.878788\n",
      "ga               66.787879\n",
      "attendance    15319.966667\n",
      "dtype: float64\n",
      "\n",
      "Avg stats (Survivors):\n",
      "pts              55.887701\n",
      "gd                5.454545\n",
      "gf               52.374332\n",
      "ga               46.919786\n",
      "attendance    28372.603448\n",
      "dtype: float64\n"
     ]
    },
    {
     "data": {
      "image/png": "[encoded data removed]",
      "text/plain": [
       "<Figure size 800x500 with 1 Axes>"
      ]
     },
     "metadata": {},
     "output_type": "display_data"
    }
   ],
   "source": [
    "# Avg stats of relegated vs survivors\n",
    "relegated = full_data[full_data[\"notes\"].str.contains(\"Relegated\", na=False)]\n",
    "non_relegated = full_data[~full_data[\"notes\"].str.contains(\"Relegated\", na=False)]\n",
    "\n",
    "print(\"Avg stats (Relegated):\")\n",
    "print(relegated[[\"pts\",\"gd\",\"gf\",\"ga\",\"attendance\"]].mean())\n",
    "\n",
    "print(\"\\nAvg stats (Survivors):\")\n",
    "print(non_relegated[[\"pts\",\"gd\",\"gf\",\"ga\",\"attendance\"]].mean())\n",
    "\n",
    "# Points threshold for survival each season\n",
    "survival_cutoff = full_data.groupby(\"season\")[\"pts\"].nsmallest(3).groupby(\"season\").max()\n",
    "plt.figure(figsize=(8,5))\n",
    "plt.plot(survival_cutoff.index, survival_cutoff.values, marker=\"o\", color=\"red\")\n",
    "plt.title(\"Survival Points Threshold (Bottom 3 Teams)\")\n",
    "plt.ylabel(\"Points Needed to Avoid Relegation\")\n",
    "plt.show()\n"
   ]
  },
  {
   "cell_type": "markdown",
   "id": "1b681b9f",
   "metadata": {},
   "source": [
    "\n",
    "### ML Modeling & Predictions"
   ]
  },
  {
   "cell_type": "code",
   "execution_count": 24,
   "id": "4bd1f8f5",
   "metadata": {},
   "outputs": [],
   "source": [
    "\n",
    "from sklearn.ensemble import RandomForestClassifier  # Machine learning model\n",
    "from sklearn.preprocessing import StandardScaler     # To normalize our features\n",
    "from sklearn.metrics import accuracy_score, classification_report, confusion_matrix, roc_auc_score, log_loss  # Model evaluation\n",
    "from sklearn.model_selection import cross_val_score  # For cross-validation\n",
    "import pandas as pd                                  # For data manipulation\n",
    "import numpy as np                           # For numerical operations"
   ]
  },
  {
   "cell_type": "code",
   "execution_count": 25,
   "id": "f0341011",
   "metadata": {},
   "outputs": [],
   "source": [
    "\n",
    "# Calculate how many games each team has left to play (La Liga has 38 total games)\n",
    "full_data[\"games_left\"] = 38 - full_data[\"mp\"]\n",
    "\n",
    "# Estimate the final number of points if each team keeps their current pace\n",
    "full_data[\"projected_pts\"] = full_data[\"pts\"] + full_data[\"games_left\"] * full_data[\"pts/mp\"]\n",
    "\n",
    "# Create a binary column to indicate if a team was champion that season (1 = champion, 0 = not)\n",
    "full_data[\"is_champion\"] = (full_data[\"rk\"] == 1).astype(int)"
   ]
  },
  {
   "cell_type": "code",
   "execution_count": 26,
   "id": "cef1ccca",
   "metadata": {},
   "outputs": [
    {
     "data": {
      "text/html": [
       "<div>\n",
       "<style scoped>\n",
       "    .dataframe tbody tr th:only-of-type {\n",
       "        vertical-align: middle;\n",
       "    }\n",
       "\n",
       "    .dataframe tbody tr th {\n",
       "        vertical-align: top;\n",
       "    }\n",
       "\n",
       "    .dataframe thead th {\n",
       "        text-align: right;\n",
       "    }\n",
       "</style>\n",
       "<table border=\"1\" class=\"dataframe\">\n",
       "  <thead>\n",
       "    <tr style=\"text-align: right;\">\n",
       "      <th></th>\n",
       "      <th>rk</th>\n",
       "      <th>squad</th>\n",
       "      <th>mp</th>\n",
       "      <th>w</th>\n",
       "      <th>d</th>\n",
       "      <th>l</th>\n",
       "      <th>gf</th>\n",
       "      <th>ga</th>\n",
       "      <th>gd</th>\n",
       "      <th>pts</th>\n",
       "      <th>pts/mp</th>\n",
       "      <th>attendance</th>\n",
       "      <th>top_team_scorer</th>\n",
       "      <th>goalkeeper</th>\n",
       "      <th>notes</th>\n",
       "      <th>season</th>\n",
       "      <th>xg</th>\n",
       "      <th>xga</th>\n",
       "      <th>xgd</th>\n",
       "      <th>xgd/90</th>\n",
       "      <th>is_champion</th>\n",
       "      <th>games_left</th>\n",
       "      <th>projected_pts</th>\n",
       "    </tr>\n",
       "  </thead>\n",
       "  <tbody>\n",
       "    <tr>\n",
       "      <th>217</th>\n",
       "      <td>18</td>\n",
       "      <td>Leganés</td>\n",
       "      <td>38</td>\n",
       "      <td>9</td>\n",
       "      <td>13</td>\n",
       "      <td>16</td>\n",
       "      <td>39</td>\n",
       "      <td>56</td>\n",
       "      <td>-17</td>\n",
       "      <td>40</td>\n",
       "      <td>1.05</td>\n",
       "      <td>11135.0</td>\n",
       "      <td>Dani Raba - 8</td>\n",
       "      <td>Marko Dmitrović</td>\n",
       "      <td>Relegated</td>\n",
       "      <td>2024</td>\n",
       "      <td>36.0</td>\n",
       "      <td>59.4</td>\n",
       "      <td>-23.4</td>\n",
       "      <td>-0.62</td>\n",
       "      <td>0</td>\n",
       "      <td>0</td>\n",
       "      <td>40.0</td>\n",
       "    </tr>\n",
       "    <tr>\n",
       "      <th>218</th>\n",
       "      <td>19</td>\n",
       "      <td>Las Palmas</td>\n",
       "      <td>38</td>\n",
       "      <td>8</td>\n",
       "      <td>8</td>\n",
       "      <td>22</td>\n",
       "      <td>40</td>\n",
       "      <td>61</td>\n",
       "      <td>-21</td>\n",
       "      <td>32</td>\n",
       "      <td>0.84</td>\n",
       "      <td>23010.0</td>\n",
       "      <td>Fábio Silva - 10</td>\n",
       "      <td>Jasper Cillessen</td>\n",
       "      <td>Relegated</td>\n",
       "      <td>2024</td>\n",
       "      <td>36.3</td>\n",
       "      <td>66.8</td>\n",
       "      <td>-30.5</td>\n",
       "      <td>-0.80</td>\n",
       "      <td>0</td>\n",
       "      <td>0</td>\n",
       "      <td>32.0</td>\n",
       "    </tr>\n",
       "    <tr>\n",
       "      <th>219</th>\n",
       "      <td>20</td>\n",
       "      <td>Valladolid</td>\n",
       "      <td>38</td>\n",
       "      <td>4</td>\n",
       "      <td>4</td>\n",
       "      <td>30</td>\n",
       "      <td>26</td>\n",
       "      <td>90</td>\n",
       "      <td>-64</td>\n",
       "      <td>16</td>\n",
       "      <td>0.42</td>\n",
       "      <td>19831.0</td>\n",
       "      <td>Mamadou Sylla - 5</td>\n",
       "      <td>Karl Jakob Hein</td>\n",
       "      <td>Relegated</td>\n",
       "      <td>2024</td>\n",
       "      <td>34.6</td>\n",
       "      <td>67.6</td>\n",
       "      <td>-33.0</td>\n",
       "      <td>-0.87</td>\n",
       "      <td>0</td>\n",
       "      <td>0</td>\n",
       "      <td>16.0</td>\n",
       "    </tr>\n",
       "  </tbody>\n",
       "</table>\n",
       "</div>"
      ],
      "text/plain": [
       "     rk       squad  mp  w   d   l  gf  ga  gd  pts  pts/mp  attendance  \\\n",
       "217  18     Leganés  38  9  13  16  39  56 -17   40    1.05     11135.0   \n",
       "218  19  Las Palmas  38  8   8  22  40  61 -21   32    0.84     23010.0   \n",
       "219  20  Valladolid  38  4   4  30  26  90 -64   16    0.42     19831.0   \n",
       "\n",
       "       top_team_scorer        goalkeeper      notes  season    xg   xga   xgd  \\\n",
       "217      Dani Raba - 8   Marko Dmitrović  Relegated    2024  36.0  59.4 -23.4   \n",
       "218   Fábio Silva - 10  Jasper Cillessen  Relegated    2024  36.3  66.8 -30.5   \n",
       "219  Mamadou Sylla - 5   Karl Jakob Hein  Relegated    2024  34.6  67.6 -33.0   \n",
       "\n",
       "     xgd/90  is_champion  games_left  projected_pts  \n",
       "217   -0.62            0           0           40.0  \n",
       "218   -0.80            0           0           32.0  \n",
       "219   -0.87            0           0           16.0  "
      ]
     },
     "execution_count": 26,
     "metadata": {},
     "output_type": "execute_result"
    }
   ],
   "source": [
    "\n",
    "full_data.tail(3)"
   ]
  },
  {
   "cell_type": "code",
   "execution_count": 27,
   "id": "46a19678",
   "metadata": {},
   "outputs": [],
   "source": [
    "# Define the features (inputs) the model will use\n",
    "features = [\"pts/mp\", \"gd\", \"w\", \"l\", \"projected_pts\"]\n",
    "\n",
    "# Create training data: all seasons before 2025\n",
    "df_train = full_data[full_data[\"season\"] < 2025]\n",
    "\n",
    "# Create testing data: only the 2024 season (current one)\n",
    "df_test = full_data[full_data[\"season\"] == 2024].copy()\n",
    "df_test[\"season\"] = 2025\n",
    "\n",
    "# Define feature matrix (X) and target variable (y)\n",
    "X_train = df_train[features]\n",
    "y_train = df_train[\"is_champion\"]\n",
    "X_test = df_test[features]"
   ]
  },
  {
   "cell_type": "code",
   "execution_count": 28,
   "id": "03471690",
   "metadata": {},
   "outputs": [
    {
     "data": {
      "text/html": [
       "<style>#sk-container-id-1 {\n",
       "  /* Definition of color scheme common for light and dark mode */\n",
       "  --sklearn-color-text: #000;\n",
       "  --sklearn-color-text-muted: #666;\n",
       "  --sklearn-color-line: gray;\n",
       "  /* Definition of color scheme for unfitted estimators */\n",
       "  --sklearn-color-unfitted-level-0: #fff5e6;\n",
       "  --sklearn-color-unfitted-level-1: #f6e4d2;\n",
       "  --sklearn-color-unfitted-level-2: #ffe0b3;\n",
       "  --sklearn-color-unfitted-level-3: chocolate;\n",
       "  /* Definition of color scheme for fitted estimators */\n",
       "  --sklearn-color-fitted-level-0: #f0f8ff;\n",
       "  --sklearn-color-fitted-level-1: #d4ebff;\n",
       "  --sklearn-color-fitted-level-2: #b3dbfd;\n",
       "  --sklearn-color-fitted-level-3: cornflowerblue;\n",
       "\n",
       "  /* Specific color for light theme */\n",
       "  --sklearn-color-text-on-default-background: var(--sg-text-color, var(--theme-code-foreground, var(--jp-content-font-color1, black)));\n",
       "  --sklearn-color-background: var(--sg-background-color, var(--theme-background, var(--jp-layout-color0, white)));\n",
       "  --sklearn-color-border-box: var(--sg-text-color, var(--theme-code-foreground, var(--jp-content-font-color1, black)));\n",
       "  --sklearn-color-icon: #696969;\n",
       "\n",
       "  @media (prefers-color-scheme: dark) {\n",
       "    /* Redefinition of color scheme for dark theme */\n",
       "    --sklearn-color-text-on-default-background: var(--sg-text-color, var(--theme-code-foreground, var(--jp-content-font-color1, white)));\n",
       "    --sklearn-color-background: var(--sg-background-color, var(--theme-background, var(--jp-layout-color0, #111)));\n",
       "    --sklearn-color-border-box: var(--sg-text-color, var(--theme-code-foreground, var(--jp-content-font-color1, white)));\n",
       "    --sklearn-color-icon: #878787;\n",
       "  }\n",
       "}\n",
       "\n",
       "#sk-container-id-1 {\n",
       "  color: var(--sklearn-color-text);\n",
       "}\n",
       "\n",
       "#sk-container-id-1 pre {\n",
       "  padding: 0;\n",
       "}\n",
       "\n",
       "#sk-container-id-1 input.sk-hidden--visually {\n",
       "  border: 0;\n",
       "  clip: rect(1px 1px 1px 1px);\n",
       "  clip: rect(1px, 1px, 1px, 1px);\n",
       "  height: 1px;\n",
       "  margin: -1px;\n",
       "  overflow: hidden;\n",
       "  padding: 0;\n",
       "  position: absolute;\n",
       "  width: 1px;\n",
       "}\n",
       "\n",
       "#sk-container-id-1 div.sk-dashed-wrapped {\n",
       "  border: 1px dashed var(--sklearn-color-line);\n",
       "  margin: 0 0.4em 0.5em 0.4em;\n",
       "  box-sizing: border-box;\n",
       "  padding-bottom: 0.4em;\n",
       "  background-color: var(--sklearn-color-background);\n",
       "}\n",
       "\n",
       "#sk-container-id-1 div.sk-container {\n",
       "  /* jupyter's `normalize.less` sets `[hidden] { display: none; }`\n",
       "     but bootstrap.min.css set `[hidden] { display: none !important; }`\n",
       "     so we also need the `!important` here to be able to override the\n",
       "     default hidden behavior on the sphinx rendered scikit-learn.org.\n",
       "     See: https://github.com/scikit-learn/scikit-learn/issues/21755 */\n",
       "  display: inline-block !important;\n",
       "  position: relative;\n",
       "}\n",
       "\n",
       "#sk-container-id-1 div.sk-text-repr-fallback {\n",
       "  display: none;\n",
       "}\n",
       "\n",
       "div.sk-parallel-item,\n",
       "div.sk-serial,\n",
       "div.sk-item {\n",
       "  /* draw centered vertical line to link estimators */\n",
       "  background-image: linear-gradient(var(--sklearn-color-text-on-default-background), var(--sklearn-color-text-on-default-background));\n",
       "  background-size: 2px 100%;\n",
       "  background-repeat: no-repeat;\n",
       "  background-position: center center;\n",
       "}\n",
       "\n",
       "/* Parallel-specific style estimator block */\n",
       "\n",
       "#sk-container-id-1 div.sk-parallel-item::after {\n",
       "  content: \"\";\n",
       "  width: 100%;\n",
       "  border-bottom: 2px solid var(--sklearn-color-text-on-default-background);\n",
       "  flex-grow: 1;\n",
       "}\n",
       "\n",
       "#sk-container-id-1 div.sk-parallel {\n",
       "  display: flex;\n",
       "  align-items: stretch;\n",
       "  justify-content: center;\n",
       "  background-color: var(--sklearn-color-background);\n",
       "  position: relative;\n",
       "}\n",
       "\n",
       "#sk-container-id-1 div.sk-parallel-item {\n",
       "  display: flex;\n",
       "  flex-direction: column;\n",
       "}\n",
       "\n",
       "#sk-container-id-1 div.sk-parallel-item:first-child::after {\n",
       "  align-self: flex-end;\n",
       "  width: 50%;\n",
       "}\n",
       "\n",
       "#sk-container-id-1 div.sk-parallel-item:last-child::after {\n",
       "  align-self: flex-start;\n",
       "  width: 50%;\n",
       "}\n",
       "\n",
       "#sk-container-id-1 div.sk-parallel-item:only-child::after {\n",
       "  width: 0;\n",
       "}\n",
       "\n",
       "/* Serial-specific style estimator block */\n",
       "\n",
       "#sk-container-id-1 div.sk-serial {\n",
       "  display: flex;\n",
       "  flex-direction: column;\n",
       "  align-items: center;\n",
       "  background-color: var(--sklearn-color-background);\n",
       "  padding-right: 1em;\n",
       "  padding-left: 1em;\n",
       "}\n",
       "\n",
       "\n",
       "/* Toggleable style: style used for estimator/Pipeline/ColumnTransformer box that is\n",
       "clickable and can be expanded/collapsed.\n",
       "- Pipeline and ColumnTransformer use this feature and define the default style\n",
       "- Estimators will overwrite some part of the style using the `sk-estimator` class\n",
       "*/\n",
       "\n",
       "/* Pipeline and ColumnTransformer style (default) */\n",
       "\n",
       "#sk-container-id-1 div.sk-toggleable {\n",
       "  /* Default theme specific background. It is overwritten whether we have a\n",
       "  specific estimator or a Pipeline/ColumnTransformer */\n",
       "  background-color: var(--sklearn-color-background);\n",
       "}\n",
       "\n",
       "/* Toggleable label */\n",
       "#sk-container-id-1 label.sk-toggleable__label {\n",
       "  cursor: pointer;\n",
       "  display: flex;\n",
       "  width: 100%;\n",
       "  margin-bottom: 0;\n",
       "  padding: 0.5em;\n",
       "  box-sizing: border-box;\n",
       "  text-align: center;\n",
       "  align-items: start;\n",
       "  justify-content: space-between;\n",
       "  gap: 0.5em;\n",
       "}\n",
       "\n",
       "#sk-container-id-1 label.sk-toggleable__label .caption {\n",
       "  font-size: 0.6rem;\n",
       "  font-weight: lighter;\n",
       "  color: var(--sklearn-color-text-muted);\n",
       "}\n",
       "\n",
       "#sk-container-id-1 label.sk-toggleable__label-arrow:before {\n",
       "  /* Arrow on the left of the label */\n",
       "  content: \"▸\";\n",
       "  float: left;\n",
       "  margin-right: 0.25em;\n",
       "  color: var(--sklearn-color-icon);\n",
       "}\n",
       "\n",
       "#sk-container-id-1 label.sk-toggleable__label-arrow:hover:before {\n",
       "  color: var(--sklearn-color-text);\n",
       "}\n",
       "\n",
       "/* Toggleable content - dropdown */\n",
       "\n",
       "#sk-container-id-1 div.sk-toggleable__content {\n",
       "  display: none;\n",
       "  text-align: left;\n",
       "  /* unfitted */\n",
       "  background-color: var(--sklearn-color-unfitted-level-0);\n",
       "}\n",
       "\n",
       "#sk-container-id-1 div.sk-toggleable__content.fitted {\n",
       "  /* fitted */\n",
       "  background-color: var(--sklearn-color-fitted-level-0);\n",
       "}\n",
       "\n",
       "#sk-container-id-1 div.sk-toggleable__content pre {\n",
       "  margin: 0.2em;\n",
       "  border-radius: 0.25em;\n",
       "  color: var(--sklearn-color-text);\n",
       "  /* unfitted */\n",
       "  background-color: var(--sklearn-color-unfitted-level-0);\n",
       "}\n",
       "\n",
       "#sk-container-id-1 div.sk-toggleable__content.fitted pre {\n",
       "  /* unfitted */\n",
       "  background-color: var(--sklearn-color-fitted-level-0);\n",
       "}\n",
       "\n",
       "#sk-container-id-1 input.sk-toggleable__control:checked~div.sk-toggleable__content {\n",
       "  /* Expand drop-down */\n",
       "  display: block;\n",
       "  width: 100%;\n",
       "  overflow: visible;\n",
       "}\n",
       "\n",
       "#sk-container-id-1 input.sk-toggleable__control:checked~label.sk-toggleable__label-arrow:before {\n",
       "  content: \"▾\";\n",
       "}\n",
       "\n",
       "/* Pipeline/ColumnTransformer-specific style */\n",
       "\n",
       "#sk-container-id-1 div.sk-label input.sk-toggleable__control:checked~label.sk-toggleable__label {\n",
       "  color: var(--sklearn-color-text);\n",
       "  background-color: var(--sklearn-color-unfitted-level-2);\n",
       "}\n",
       "\n",
       "#sk-container-id-1 div.sk-label.fitted input.sk-toggleable__control:checked~label.sk-toggleable__label {\n",
       "  background-color: var(--sklearn-color-fitted-level-2);\n",
       "}\n",
       "\n",
       "/* Estimator-specific style */\n",
       "\n",
       "/* Colorize estimator box */\n",
       "#sk-container-id-1 div.sk-estimator input.sk-toggleable__control:checked~label.sk-toggleable__label {\n",
       "  /* unfitted */\n",
       "  background-color: var(--sklearn-color-unfitted-level-2);\n",
       "}\n",
       "\n",
       "#sk-container-id-1 div.sk-estimator.fitted input.sk-toggleable__control:checked~label.sk-toggleable__label {\n",
       "  /* fitted */\n",
       "  background-color: var(--sklearn-color-fitted-level-2);\n",
       "}\n",
       "\n",
       "#sk-container-id-1 div.sk-label label.sk-toggleable__label,\n",
       "#sk-container-id-1 div.sk-label label {\n",
       "  /* The background is the default theme color */\n",
       "  color: var(--sklearn-color-text-on-default-background);\n",
       "}\n",
       "\n",
       "/* On hover, darken the color of the background */\n",
       "#sk-container-id-1 div.sk-label:hover label.sk-toggleable__label {\n",
       "  color: var(--sklearn-color-text);\n",
       "  background-color: var(--sklearn-color-unfitted-level-2);\n",
       "}\n",
       "\n",
       "/* Label box, darken color on hover, fitted */\n",
       "#sk-container-id-1 div.sk-label.fitted:hover label.sk-toggleable__label.fitted {\n",
       "  color: var(--sklearn-color-text);\n",
       "  background-color: var(--sklearn-color-fitted-level-2);\n",
       "}\n",
       "\n",
       "/* Estimator label */\n",
       "\n",
       "#sk-container-id-1 div.sk-label label {\n",
       "  font-family: monospace;\n",
       "  font-weight: bold;\n",
       "  display: inline-block;\n",
       "  line-height: 1.2em;\n",
       "}\n",
       "\n",
       "#sk-container-id-1 div.sk-label-container {\n",
       "  text-align: center;\n",
       "}\n",
       "\n",
       "/* Estimator-specific */\n",
       "#sk-container-id-1 div.sk-estimator {\n",
       "  font-family: monospace;\n",
       "  border: 1px dotted var(--sklearn-color-border-box);\n",
       "  border-radius: 0.25em;\n",
       "  box-sizing: border-box;\n",
       "  margin-bottom: 0.5em;\n",
       "  /* unfitted */\n",
       "  background-color: var(--sklearn-color-unfitted-level-0);\n",
       "}\n",
       "\n",
       "#sk-container-id-1 div.sk-estimator.fitted {\n",
       "  /* fitted */\n",
       "  background-color: var(--sklearn-color-fitted-level-0);\n",
       "}\n",
       "\n",
       "/* on hover */\n",
       "#sk-container-id-1 div.sk-estimator:hover {\n",
       "  /* unfitted */\n",
       "  background-color: var(--sklearn-color-unfitted-level-2);\n",
       "}\n",
       "\n",
       "#sk-container-id-1 div.sk-estimator.fitted:hover {\n",
       "  /* fitted */\n",
       "  background-color: var(--sklearn-color-fitted-level-2);\n",
       "}\n",
       "\n",
       "/* Specification for estimator info (e.g. \"i\" and \"?\") */\n",
       "\n",
       "/* Common style for \"i\" and \"?\" */\n",
       "\n",
       ".sk-estimator-doc-link,\n",
       "a:link.sk-estimator-doc-link,\n",
       "a:visited.sk-estimator-doc-link {\n",
       "  float: right;\n",
       "  font-size: smaller;\n",
       "  line-height: 1em;\n",
       "  font-family: monospace;\n",
       "  background-color: var(--sklearn-color-background);\n",
       "  border-radius: 1em;\n",
       "  height: 1em;\n",
       "  width: 1em;\n",
       "  text-decoration: none !important;\n",
       "  margin-left: 0.5em;\n",
       "  text-align: center;\n",
       "  /* unfitted */\n",
       "  border: var(--sklearn-color-unfitted-level-1) 1pt solid;\n",
       "  color: var(--sklearn-color-unfitted-level-1);\n",
       "}\n",
       "\n",
       ".sk-estimator-doc-link.fitted,\n",
       "a:link.sk-estimator-doc-link.fitted,\n",
       "a:visited.sk-estimator-doc-link.fitted {\n",
       "  /* fitted */\n",
       "  border: var(--sklearn-color-fitted-level-1) 1pt solid;\n",
       "  color: var(--sklearn-color-fitted-level-1);\n",
       "}\n",
       "\n",
       "/* On hover */\n",
       "div.sk-estimator:hover .sk-estimator-doc-link:hover,\n",
       ".sk-estimator-doc-link:hover,\n",
       "div.sk-label-container:hover .sk-estimator-doc-link:hover,\n",
       ".sk-estimator-doc-link:hover {\n",
       "  /* unfitted */\n",
       "  background-color: var(--sklearn-color-unfitted-level-3);\n",
       "  color: var(--sklearn-color-background);\n",
       "  text-decoration: none;\n",
       "}\n",
       "\n",
       "div.sk-estimator.fitted:hover .sk-estimator-doc-link.fitted:hover,\n",
       ".sk-estimator-doc-link.fitted:hover,\n",
       "div.sk-label-container:hover .sk-estimator-doc-link.fitted:hover,\n",
       ".sk-estimator-doc-link.fitted:hover {\n",
       "  /* fitted */\n",
       "  background-color: var(--sklearn-color-fitted-level-3);\n",
       "  color: var(--sklearn-color-background);\n",
       "  text-decoration: none;\n",
       "}\n",
       "\n",
       "/* Span, style for the box shown on hovering the info icon */\n",
       ".sk-estimator-doc-link span {\n",
       "  display: none;\n",
       "  z-index: 9999;\n",
       "  position: relative;\n",
       "  font-weight: normal;\n",
       "  right: .2ex;\n",
       "  padding: .5ex;\n",
       "  margin: .5ex;\n",
       "  width: min-content;\n",
       "  min-width: 20ex;\n",
       "  max-width: 50ex;\n",
       "  color: var(--sklearn-color-text);\n",
       "  box-shadow: 2pt 2pt 4pt #999;\n",
       "  /* unfitted */\n",
       "  background: var(--sklearn-color-unfitted-level-0);\n",
       "  border: .5pt solid var(--sklearn-color-unfitted-level-3);\n",
       "}\n",
       "\n",
       ".sk-estimator-doc-link.fitted span {\n",
       "  /* fitted */\n",
       "  background: var(--sklearn-color-fitted-level-0);\n",
       "  border: var(--sklearn-color-fitted-level-3);\n",
       "}\n",
       "\n",
       ".sk-estimator-doc-link:hover span {\n",
       "  display: block;\n",
       "}\n",
       "\n",
       "/* \"?\"-specific style due to the `<a>` HTML tag */\n",
       "\n",
       "#sk-container-id-1 a.estimator_doc_link {\n",
       "  float: right;\n",
       "  font-size: 1rem;\n",
       "  line-height: 1em;\n",
       "  font-family: monospace;\n",
       "  background-color: var(--sklearn-color-background);\n",
       "  border-radius: 1rem;\n",
       "  height: 1rem;\n",
       "  width: 1rem;\n",
       "  text-decoration: none;\n",
       "  /* unfitted */\n",
       "  color: var(--sklearn-color-unfitted-level-1);\n",
       "  border: var(--sklearn-color-unfitted-level-1) 1pt solid;\n",
       "}\n",
       "\n",
       "#sk-container-id-1 a.estimator_doc_link.fitted {\n",
       "  /* fitted */\n",
       "  border: var(--sklearn-color-fitted-level-1) 1pt solid;\n",
       "  color: var(--sklearn-color-fitted-level-1);\n",
       "}\n",
       "\n",
       "/* On hover */\n",
       "#sk-container-id-1 a.estimator_doc_link:hover {\n",
       "  /* unfitted */\n",
       "  background-color: var(--sklearn-color-unfitted-level-3);\n",
       "  color: var(--sklearn-color-background);\n",
       "  text-decoration: none;\n",
       "}\n",
       "\n",
       "#sk-container-id-1 a.estimator_doc_link.fitted:hover {\n",
       "  /* fitted */\n",
       "  background-color: var(--sklearn-color-fitted-level-3);\n",
       "}\n",
       "\n",
       ".estimator-table summary {\n",
       "    padding: .5rem;\n",
       "    font-family: monospace;\n",
       "    cursor: pointer;\n",
       "}\n",
       "\n",
       ".estimator-table details[open] {\n",
       "    padding-left: 0.1rem;\n",
       "    padding-right: 0.1rem;\n",
       "    padding-bottom: 0.3rem;\n",
       "}\n",
       "\n",
       ".estimator-table .parameters-table {\n",
       "    margin-left: auto !important;\n",
       "    margin-right: auto !important;\n",
       "}\n",
       "\n",
       ".estimator-table .parameters-table tr:nth-child(odd) {\n",
       "    background-color: #fff;\n",
       "}\n",
       "\n",
       ".estimator-table .parameters-table tr:nth-child(even) {\n",
       "    background-color: #f6f6f6;\n",
       "}\n",
       "\n",
       ".estimator-table .parameters-table tr:hover {\n",
       "    background-color: #e0e0e0;\n",
       "}\n",
       "\n",
       ".estimator-table table td {\n",
       "    border: 1px solid rgba(106, 105, 104, 0.232);\n",
       "}\n",
       "\n",
       ".user-set td {\n",
       "    color:rgb(255, 94, 0);\n",
       "    text-align: left;\n",
       "}\n",
       "\n",
       ".user-set td.value pre {\n",
       "    color:rgb(255, 94, 0) !important;\n",
       "    background-color: transparent !important;\n",
       "}\n",
       "\n",
       ".default td {\n",
       "    color: black;\n",
       "    text-align: left;\n",
       "}\n",
       "\n",
       ".user-set td i,\n",
       ".default td i {\n",
       "    color: black;\n",
       "}\n",
       "\n",
       ".copy-paste-icon {\n",
       "    background-image: url(data:image/svg+xml;base64,PHN2ZyB4bWxucz0iaHR0cDovL3d3dy53My5vcmcvMjAwMC9zdmciIHZpZXdCb3g9IjAgMCA0NDggNTEyIj48IS0tIUZvbnQgQXdlc29tZSBGcmVlIDYuNy4yIGJ5IEBmb250YXdlc29tZSAtIGh0dHBzOi8vZm9udGF3ZXNvbWUuY29tIExpY2Vuc2UgLSBodHRwczovL2ZvbnRhd2Vzb21lLmNvbS9saWNlbnNlL2ZyZWUgQ29weXJpZ2h0IDIwMjUgRm9udGljb25zLCBJbmMuLS0+PHBhdGggZD0iTTIwOCAwTDMzMi4xIDBjMTIuNyAwIDI0LjkgNS4xIDMzLjkgMTQuMWw2Ny45IDY3LjljOSA5IDE0LjEgMjEuMiAxNC4xIDMzLjlMNDQ4IDMzNmMwIDI2LjUtMjEuNSA0OC00OCA0OGwtMTkyIDBjLTI2LjUgMC00OC0yMS41LTQ4LTQ4bDAtMjg4YzAtMjYuNSAyMS41LTQ4IDQ4LTQ4ek00OCAxMjhsODAgMCAwIDY0LTY0IDAgMCAyNTYgMTkyIDAgMC0zMiA2NCAwIDAgNDhjMCAyNi41LTIxLjUgNDgtNDggNDhMNDggNTEyYy0yNi41IDAtNDgtMjEuNS00OC00OEwwIDE3NmMwLTI2LjUgMjEuNS00OCA0OC00OHoiLz48L3N2Zz4=);\n",
       "    background-repeat: no-repeat;\n",
       "    background-size: 14px 14px;\n",
       "    background-position: 0;\n",
       "    display: inline-block;\n",
       "    width: 14px;\n",
       "    height: 14px;\n",
       "    cursor: pointer;\n",
       "}\n",
       "</style><body><div id=\"sk-container-id-1\" class=\"sk-top-container\"><div class=\"sk-text-repr-fallback\"><pre>RandomForestClassifier(n_estimators=200, random_state=42)</pre><b>In a Jupyter environment, please rerun this cell to show the HTML representation or trust the notebook. <br />On GitHub, the HTML representation is unable to render, please try loading this page with nbviewer.org.</b></div><div class=\"sk-container\" hidden><div class=\"sk-item\"><div class=\"sk-estimator fitted sk-toggleable\"><input class=\"sk-toggleable__control sk-hidden--visually\" id=\"sk-estimator-id-1\" type=\"checkbox\" checked><label for=\"sk-estimator-id-1\" class=\"sk-toggleable__label fitted sk-toggleable__label-arrow\"><div><div>RandomForestClassifier</div></div><div><a class=\"sk-estimator-doc-link fitted\" rel=\"noreferrer\" target=\"_blank\" href=\"https://scikit-learn.org/1.7/modules/generated/sklearn.ensemble.RandomForestClassifier.html\">?<span>Documentation for RandomForestClassifier</span></a><span class=\"sk-estimator-doc-link fitted\">i<span>Fitted</span></span></div></label><div class=\"sk-toggleable__content fitted\" data-param-prefix=\"\">\n",
       "        <div class=\"estimator-table\">\n",
       "            <details>\n",
       "                <summary>Parameters</summary>\n",
       "                <table class=\"parameters-table\">\n",
       "                  <tbody>\n",
       "                    \n",
       "        <tr class=\"user-set\">\n",
       "            <td><i class=\"copy-paste-icon\"\n",
       "                 onclick=\"copyToClipboard('n_estimators',\n",
       "                          this.parentElement.nextElementSibling)\"\n",
       "            ></i></td>\n",
       "            <td class=\"param\">n_estimators&nbsp;</td>\n",
       "            <td class=\"value\">200</td>\n",
       "        </tr>\n",
       "    \n",
       "\n",
       "        <tr class=\"default\">\n",
       "            <td><i class=\"copy-paste-icon\"\n",
       "                 onclick=\"copyToClipboard('criterion',\n",
       "                          this.parentElement.nextElementSibling)\"\n",
       "            ></i></td>\n",
       "            <td class=\"param\">criterion&nbsp;</td>\n",
       "            <td class=\"value\">&#x27;gini&#x27;</td>\n",
       "        </tr>\n",
       "    \n",
       "\n",
       "        <tr class=\"default\">\n",
       "            <td><i class=\"copy-paste-icon\"\n",
       "                 onclick=\"copyToClipboard('max_depth',\n",
       "                          this.parentElement.nextElementSibling)\"\n",
       "            ></i></td>\n",
       "            <td class=\"param\">max_depth&nbsp;</td>\n",
       "            <td class=\"value\">None</td>\n",
       "        </tr>\n",
       "    \n",
       "\n",
       "        <tr class=\"default\">\n",
       "            <td><i class=\"copy-paste-icon\"\n",
       "                 onclick=\"copyToClipboard('min_samples_split',\n",
       "                          this.parentElement.nextElementSibling)\"\n",
       "            ></i></td>\n",
       "            <td class=\"param\">min_samples_split&nbsp;</td>\n",
       "            <td class=\"value\">2</td>\n",
       "        </tr>\n",
       "    \n",
       "\n",
       "        <tr class=\"default\">\n",
       "            <td><i class=\"copy-paste-icon\"\n",
       "                 onclick=\"copyToClipboard('min_samples_leaf',\n",
       "                          this.parentElement.nextElementSibling)\"\n",
       "            ></i></td>\n",
       "            <td class=\"param\">min_samples_leaf&nbsp;</td>\n",
       "            <td class=\"value\">1</td>\n",
       "        </tr>\n",
       "    \n",
       "\n",
       "        <tr class=\"default\">\n",
       "            <td><i class=\"copy-paste-icon\"\n",
       "                 onclick=\"copyToClipboard('min_weight_fraction_leaf',\n",
       "                          this.parentElement.nextElementSibling)\"\n",
       "            ></i></td>\n",
       "            <td class=\"param\">min_weight_fraction_leaf&nbsp;</td>\n",
       "            <td class=\"value\">0.0</td>\n",
       "        </tr>\n",
       "    \n",
       "\n",
       "        <tr class=\"default\">\n",
       "            <td><i class=\"copy-paste-icon\"\n",
       "                 onclick=\"copyToClipboard('max_features',\n",
       "                          this.parentElement.nextElementSibling)\"\n",
       "            ></i></td>\n",
       "            <td class=\"param\">max_features&nbsp;</td>\n",
       "            <td class=\"value\">&#x27;sqrt&#x27;</td>\n",
       "        </tr>\n",
       "    \n",
       "\n",
       "        <tr class=\"default\">\n",
       "            <td><i class=\"copy-paste-icon\"\n",
       "                 onclick=\"copyToClipboard('max_leaf_nodes',\n",
       "                          this.parentElement.nextElementSibling)\"\n",
       "            ></i></td>\n",
       "            <td class=\"param\">max_leaf_nodes&nbsp;</td>\n",
       "            <td class=\"value\">None</td>\n",
       "        </tr>\n",
       "    \n",
       "\n",
       "        <tr class=\"default\">\n",
       "            <td><i class=\"copy-paste-icon\"\n",
       "                 onclick=\"copyToClipboard('min_impurity_decrease',\n",
       "                          this.parentElement.nextElementSibling)\"\n",
       "            ></i></td>\n",
       "            <td class=\"param\">min_impurity_decrease&nbsp;</td>\n",
       "            <td class=\"value\">0.0</td>\n",
       "        </tr>\n",
       "    \n",
       "\n",
       "        <tr class=\"default\">\n",
       "            <td><i class=\"copy-paste-icon\"\n",
       "                 onclick=\"copyToClipboard('bootstrap',\n",
       "                          this.parentElement.nextElementSibling)\"\n",
       "            ></i></td>\n",
       "            <td class=\"param\">bootstrap&nbsp;</td>\n",
       "            <td class=\"value\">True</td>\n",
       "        </tr>\n",
       "    \n",
       "\n",
       "        <tr class=\"default\">\n",
       "            <td><i class=\"copy-paste-icon\"\n",
       "                 onclick=\"copyToClipboard('oob_score',\n",
       "                          this.parentElement.nextElementSibling)\"\n",
       "            ></i></td>\n",
       "            <td class=\"param\">oob_score&nbsp;</td>\n",
       "            <td class=\"value\">False</td>\n",
       "        </tr>\n",
       "    \n",
       "\n",
       "        <tr class=\"default\">\n",
       "            <td><i class=\"copy-paste-icon\"\n",
       "                 onclick=\"copyToClipboard('n_jobs',\n",
       "                          this.parentElement.nextElementSibling)\"\n",
       "            ></i></td>\n",
       "            <td class=\"param\">n_jobs&nbsp;</td>\n",
       "            <td class=\"value\">None</td>\n",
       "        </tr>\n",
       "    \n",
       "\n",
       "        <tr class=\"user-set\">\n",
       "            <td><i class=\"copy-paste-icon\"\n",
       "                 onclick=\"copyToClipboard('random_state',\n",
       "                          this.parentElement.nextElementSibling)\"\n",
       "            ></i></td>\n",
       "            <td class=\"param\">random_state&nbsp;</td>\n",
       "            <td class=\"value\">42</td>\n",
       "        </tr>\n",
       "    \n",
       "\n",
       "        <tr class=\"default\">\n",
       "            <td><i class=\"copy-paste-icon\"\n",
       "                 onclick=\"copyToClipboard('verbose',\n",
       "                          this.parentElement.nextElementSibling)\"\n",
       "            ></i></td>\n",
       "            <td class=\"param\">verbose&nbsp;</td>\n",
       "            <td class=\"value\">0</td>\n",
       "        </tr>\n",
       "    \n",
       "\n",
       "        <tr class=\"default\">\n",
       "            <td><i class=\"copy-paste-icon\"\n",
       "                 onclick=\"copyToClipboard('warm_start',\n",
       "                          this.parentElement.nextElementSibling)\"\n",
       "            ></i></td>\n",
       "            <td class=\"param\">warm_start&nbsp;</td>\n",
       "            <td class=\"value\">False</td>\n",
       "        </tr>\n",
       "    \n",
       "\n",
       "        <tr class=\"default\">\n",
       "            <td><i class=\"copy-paste-icon\"\n",
       "                 onclick=\"copyToClipboard('class_weight',\n",
       "                          this.parentElement.nextElementSibling)\"\n",
       "            ></i></td>\n",
       "            <td class=\"param\">class_weight&nbsp;</td>\n",
       "            <td class=\"value\">None</td>\n",
       "        </tr>\n",
       "    \n",
       "\n",
       "        <tr class=\"default\">\n",
       "            <td><i class=\"copy-paste-icon\"\n",
       "                 onclick=\"copyToClipboard('ccp_alpha',\n",
       "                          this.parentElement.nextElementSibling)\"\n",
       "            ></i></td>\n",
       "            <td class=\"param\">ccp_alpha&nbsp;</td>\n",
       "            <td class=\"value\">0.0</td>\n",
       "        </tr>\n",
       "    \n",
       "\n",
       "        <tr class=\"default\">\n",
       "            <td><i class=\"copy-paste-icon\"\n",
       "                 onclick=\"copyToClipboard('max_samples',\n",
       "                          this.parentElement.nextElementSibling)\"\n",
       "            ></i></td>\n",
       "            <td class=\"param\">max_samples&nbsp;</td>\n",
       "            <td class=\"value\">None</td>\n",
       "        </tr>\n",
       "    \n",
       "\n",
       "        <tr class=\"default\">\n",
       "            <td><i class=\"copy-paste-icon\"\n",
       "                 onclick=\"copyToClipboard('monotonic_cst',\n",
       "                          this.parentElement.nextElementSibling)\"\n",
       "            ></i></td>\n",
       "            <td class=\"param\">monotonic_cst&nbsp;</td>\n",
       "            <td class=\"value\">None</td>\n",
       "        </tr>\n",
       "    \n",
       "                  </tbody>\n",
       "                </table>\n",
       "            </details>\n",
       "        </div>\n",
       "    </div></div></div></div></div><script>function copyToClipboard(text, element) {\n",
       "    // Get the parameter prefix from the closest toggleable content\n",
       "    const toggleableContent = element.closest('.sk-toggleable__content');\n",
       "    const paramPrefix = toggleableContent ? toggleableContent.dataset.paramPrefix : '';\n",
       "    const fullParamName = paramPrefix ? `${paramPrefix}${text}` : text;\n",
       "\n",
       "    const originalStyle = element.style;\n",
       "    const computedStyle = window.getComputedStyle(element);\n",
       "    const originalWidth = computedStyle.width;\n",
       "    const originalHTML = element.innerHTML.replace('Copied!', '');\n",
       "\n",
       "    navigator.clipboard.writeText(fullParamName)\n",
       "        .then(() => {\n",
       "            element.style.width = originalWidth;\n",
       "            element.style.color = 'green';\n",
       "            element.innerHTML = \"Copied!\";\n",
       "\n",
       "            setTimeout(() => {\n",
       "                element.innerHTML = originalHTML;\n",
       "                element.style = originalStyle;\n",
       "            }, 2000);\n",
       "        })\n",
       "        .catch(err => {\n",
       "            console.error('Failed to copy:', err);\n",
       "            element.style.color = 'red';\n",
       "            element.innerHTML = \"Failed!\";\n",
       "            setTimeout(() => {\n",
       "                element.innerHTML = originalHTML;\n",
       "                element.style = originalStyle;\n",
       "            }, 2000);\n",
       "        });\n",
       "    return false;\n",
       "}\n",
       "\n",
       "document.querySelectorAll('.fa-regular.fa-copy').forEach(function(element) {\n",
       "    const toggleableContent = element.closest('.sk-toggleable__content');\n",
       "    const paramPrefix = toggleableContent ? toggleableContent.dataset.paramPrefix : '';\n",
       "    const paramName = element.parentElement.nextElementSibling.textContent.trim();\n",
       "    const fullParamName = paramPrefix ? `${paramPrefix}${paramName}` : paramName;\n",
       "\n",
       "    element.setAttribute('title', fullParamName);\n",
       "});\n",
       "</script></body>"
      ],
      "text/plain": [
       "RandomForestClassifier(n_estimators=200, random_state=42)"
      ]
     },
     "execution_count": 28,
     "metadata": {},
     "output_type": "execute_result"
    }
   ],
   "source": [
    "# Initialize the model with 200 trees and a fixed random state for reproducibility\n",
    "model = RandomForestClassifier(n_estimators=200, random_state=42)\n",
    "\n",
    "# Train the model on the training data\n",
    "model.fit(X_train, y_train)"
   ]
  },
  {
   "cell_type": "code",
   "execution_count": 29,
   "id": "a756bd2d",
   "metadata": {},
   "outputs": [],
   "source": [
    "# Predict binary outcomes (0 or 1) on training set\n",
    "train_preds = model.predict(X_train)\n",
    "\n",
    "# Predict probabilities of being champion\n",
    "train_probs = model.predict_proba(X_train)[:, 1]  # Only the prob of class 1"
   ]
  },
  {
   "cell_type": "code",
   "execution_count": 30,
   "id": "da563c16",
   "metadata": {},
   "outputs": [
    {
     "name": "stdout",
     "output_type": "stream",
     "text": [
      "\n",
      "Model Performance on Historical Data\n",
      "Accuracy: 1.000\n",
      "ROC AUC Score: 1.000\n",
      "Log Loss: 0.013\n",
      "\n",
      "Classification Report:\n",
      "              precision    recall  f1-score   support\n",
      "\n",
      "           0       1.00      1.00      1.00       209\n",
      "           1       1.00      1.00      1.00        11\n",
      "\n",
      "    accuracy                           1.00       220\n",
      "   macro avg       1.00      1.00      1.00       220\n",
      "weighted avg       1.00      1.00      1.00       220\n",
      "\n",
      "Confusion Matrix:\n",
      "[[209   0]\n",
      " [  0  11]]\n"
     ]
    }
   ],
   "source": [
    "# Compute accuracy\n",
    "accuracy = accuracy_score(y_train, train_preds)\n",
    "\n",
    "# Compute ROC AUC score\n",
    "roc_auc = roc_auc_score(y_train, train_probs)\n",
    "\n",
    "# Compute log loss (lower is better)\n",
    "logloss = log_loss(y_train, train_probs)\n",
    "\n",
    "# Print performance metrics\n",
    "print(f\"\\nModel Performance on Historical Data\")\n",
    "print(f\"Accuracy: {accuracy:.3f}\")\n",
    "print(f\"ROC AUC Score: {roc_auc:.3f}\")\n",
    "print(f\"Log Loss: {logloss:.3f}\")\n",
    "\n",
    "# Print detailed classification performance\n",
    "print(\"\\nClassification Report:\")\n",
    "print(classification_report(y_train, train_preds))\n",
    "\n",
    "# Show confusion matrix (true vs predicted values)\n",
    "print(\"Confusion Matrix:\")\n",
    "print(confusion_matrix(y_train, train_preds))"
   ]
  },
  {
   "cell_type": "code",
   "execution_count": 31,
   "id": "09275677",
   "metadata": {},
   "outputs": [],
   "source": [
    "# Predict probability of becoming champion\n",
    "df_test[\"win_probability\"] = model.predict_proba(X_test)[:, 1]"
   ]
  },
  {
   "cell_type": "code",
   "execution_count": 32,
   "id": "e9dcf2a2",
   "metadata": {},
   "outputs": [
    {
     "data": {
      "text/html": [
       "<div>\n",
       "<style scoped>\n",
       "    .dataframe tbody tr th:only-of-type {\n",
       "        vertical-align: middle;\n",
       "    }\n",
       "\n",
       "    .dataframe tbody tr th {\n",
       "        vertical-align: top;\n",
       "    }\n",
       "\n",
       "    .dataframe thead th {\n",
       "        text-align: right;\n",
       "    }\n",
       "</style>\n",
       "<table border=\"1\" class=\"dataframe\">\n",
       "  <thead>\n",
       "    <tr style=\"text-align: right;\">\n",
       "      <th></th>\n",
       "      <th>rk</th>\n",
       "      <th>squad</th>\n",
       "      <th>mp</th>\n",
       "      <th>w</th>\n",
       "      <th>d</th>\n",
       "      <th>l</th>\n",
       "      <th>gf</th>\n",
       "      <th>ga</th>\n",
       "      <th>gd</th>\n",
       "      <th>pts</th>\n",
       "      <th>pts/mp</th>\n",
       "      <th>attendance</th>\n",
       "      <th>top_team_scorer</th>\n",
       "      <th>goalkeeper</th>\n",
       "      <th>notes</th>\n",
       "      <th>season</th>\n",
       "      <th>xg</th>\n",
       "      <th>xga</th>\n",
       "      <th>xgd</th>\n",
       "      <th>xgd/90</th>\n",
       "      <th>is_champion</th>\n",
       "      <th>games_left</th>\n",
       "      <th>projected_pts</th>\n",
       "      <th>win_probability</th>\n",
       "    </tr>\n",
       "  </thead>\n",
       "  <tbody>\n",
       "    <tr>\n",
       "      <th>200</th>\n",
       "      <td>1</td>\n",
       "      <td>Barcelona</td>\n",
       "      <td>38</td>\n",
       "      <td>28</td>\n",
       "      <td>4</td>\n",
       "      <td>6</td>\n",
       "      <td>102</td>\n",
       "      <td>39</td>\n",
       "      <td>63</td>\n",
       "      <td>88</td>\n",
       "      <td>2.32</td>\n",
       "      <td>45953.0</td>\n",
       "      <td>Robert Lewandowski - 27</td>\n",
       "      <td>Iñaki Peña</td>\n",
       "      <td>→ Champions League via league finish</td>\n",
       "      <td>2025</td>\n",
       "      <td>91.5</td>\n",
       "      <td>41.9</td>\n",
       "      <td>49.5</td>\n",
       "      <td>1.30</td>\n",
       "      <td>1</td>\n",
       "      <td>0</td>\n",
       "      <td>88.0</td>\n",
       "      <td>0.885</td>\n",
       "    </tr>\n",
       "    <tr>\n",
       "      <th>201</th>\n",
       "      <td>2</td>\n",
       "      <td>Real Madrid</td>\n",
       "      <td>38</td>\n",
       "      <td>26</td>\n",
       "      <td>6</td>\n",
       "      <td>6</td>\n",
       "      <td>78</td>\n",
       "      <td>38</td>\n",
       "      <td>40</td>\n",
       "      <td>84</td>\n",
       "      <td>2.21</td>\n",
       "      <td>69807.0</td>\n",
       "      <td>Kylian Mbappé - 31</td>\n",
       "      <td>Thibaut Courtois</td>\n",
       "      <td>→ Champions League via league finish</td>\n",
       "      <td>2025</td>\n",
       "      <td>75.3</td>\n",
       "      <td>42.8</td>\n",
       "      <td>32.5</td>\n",
       "      <td>0.86</td>\n",
       "      <td>0</td>\n",
       "      <td>0</td>\n",
       "      <td>84.0</td>\n",
       "      <td>0.035</td>\n",
       "    </tr>\n",
       "    <tr>\n",
       "      <th>202</th>\n",
       "      <td>3</td>\n",
       "      <td>Atlético Madrid</td>\n",
       "      <td>38</td>\n",
       "      <td>22</td>\n",
       "      <td>10</td>\n",
       "      <td>6</td>\n",
       "      <td>68</td>\n",
       "      <td>30</td>\n",
       "      <td>38</td>\n",
       "      <td>76</td>\n",
       "      <td>2.00</td>\n",
       "      <td>60883.0</td>\n",
       "      <td>Alexander Sørloth - 20</td>\n",
       "      <td>Jan Oblak</td>\n",
       "      <td>→ Champions League via league finish</td>\n",
       "      <td>2025</td>\n",
       "      <td>64.6</td>\n",
       "      <td>33.4</td>\n",
       "      <td>31.2</td>\n",
       "      <td>0.82</td>\n",
       "      <td>0</td>\n",
       "      <td>0</td>\n",
       "      <td>76.0</td>\n",
       "      <td>0.000</td>\n",
       "    </tr>\n",
       "    <tr>\n",
       "      <th>203</th>\n",
       "      <td>4</td>\n",
       "      <td>Athletic Club</td>\n",
       "      <td>38</td>\n",
       "      <td>19</td>\n",
       "      <td>13</td>\n",
       "      <td>6</td>\n",
       "      <td>54</td>\n",
       "      <td>29</td>\n",
       "      <td>25</td>\n",
       "      <td>70</td>\n",
       "      <td>1.84</td>\n",
       "      <td>48420.0</td>\n",
       "      <td>Oihan Sancet - 15</td>\n",
       "      <td>Unai Simón</td>\n",
       "      <td>→ Champions League via league finish</td>\n",
       "      <td>2025</td>\n",
       "      <td>53.0</td>\n",
       "      <td>37.8</td>\n",
       "      <td>15.2</td>\n",
       "      <td>0.40</td>\n",
       "      <td>0</td>\n",
       "      <td>0</td>\n",
       "      <td>70.0</td>\n",
       "      <td>0.000</td>\n",
       "    </tr>\n",
       "    <tr>\n",
       "      <th>204</th>\n",
       "      <td>5</td>\n",
       "      <td>Villarreal</td>\n",
       "      <td>38</td>\n",
       "      <td>20</td>\n",
       "      <td>10</td>\n",
       "      <td>8</td>\n",
       "      <td>71</td>\n",
       "      <td>51</td>\n",
       "      <td>20</td>\n",
       "      <td>70</td>\n",
       "      <td>1.84</td>\n",
       "      <td>18266.0</td>\n",
       "      <td>Ayoze Pérez - 19</td>\n",
       "      <td>Diego Conde</td>\n",
       "      <td>→ Champions League via league finish</td>\n",
       "      <td>2025</td>\n",
       "      <td>64.8</td>\n",
       "      <td>44.4</td>\n",
       "      <td>20.4</td>\n",
       "      <td>0.54</td>\n",
       "      <td>0</td>\n",
       "      <td>0</td>\n",
       "      <td>70.0</td>\n",
       "      <td>0.000</td>\n",
       "    </tr>\n",
       "  </tbody>\n",
       "</table>\n",
       "</div>"
      ],
      "text/plain": [
       "     rk            squad  mp   w   d  l   gf  ga  gd  pts  pts/mp  attendance  \\\n",
       "200   1        Barcelona  38  28   4  6  102  39  63   88    2.32     45953.0   \n",
       "201   2      Real Madrid  38  26   6  6   78  38  40   84    2.21     69807.0   \n",
       "202   3  Atlético Madrid  38  22  10  6   68  30  38   76    2.00     60883.0   \n",
       "203   4    Athletic Club  38  19  13  6   54  29  25   70    1.84     48420.0   \n",
       "204   5       Villarreal  38  20  10  8   71  51  20   70    1.84     18266.0   \n",
       "\n",
       "             top_team_scorer        goalkeeper  \\\n",
       "200  Robert Lewandowski - 27        Iñaki Peña   \n",
       "201       Kylian Mbappé - 31  Thibaut Courtois   \n",
       "202   Alexander Sørloth - 20         Jan Oblak   \n",
       "203        Oihan Sancet - 15        Unai Simón   \n",
       "204         Ayoze Pérez - 19       Diego Conde   \n",
       "\n",
       "                                    notes  season    xg   xga   xgd  xgd/90  \\\n",
       "200  → Champions League via league finish    2025  91.5  41.9  49.5    1.30   \n",
       "201  → Champions League via league finish    2025  75.3  42.8  32.5    0.86   \n",
       "202  → Champions League via league finish    2025  64.6  33.4  31.2    0.82   \n",
       "203  → Champions League via league finish    2025  53.0  37.8  15.2    0.40   \n",
       "204  → Champions League via league finish    2025  64.8  44.4  20.4    0.54   \n",
       "\n",
       "     is_champion  games_left  projected_pts  win_probability  \n",
       "200            1           0           88.0            0.885  \n",
       "201            0           0           84.0            0.035  \n",
       "202            0           0           76.0            0.000  \n",
       "203            0           0           70.0            0.000  \n",
       "204            0           0           70.0            0.000  "
      ]
     },
     "execution_count": 32,
     "metadata": {},
     "output_type": "execute_result"
    }
   ],
   "source": [
    "df_test.head()"
   ]
  },
  {
   "cell_type": "code",
   "execution_count": 33,
   "id": "5838a1e4",
   "metadata": {},
   "outputs": [],
   "source": [
    "# Normalize the probabilities so that all teams add up to 100%\n",
    "df_test[\"win_probability (%)\"] = df_test[\"win_probability\"] / df_test[\"win_probability\"].sum() * 100\n",
    "\n",
    "# Round the values for better readability\n",
    "df_test[\"win_probability (%)\"] = df_test[\"win_probability (%)\"].round(3)"
   ]
  },
  {
   "cell_type": "code",
   "execution_count": 34,
   "id": "46bf16ee",
   "metadata": {},
   "outputs": [
    {
     "name": "stdout",
     "output_type": "stream",
     "text": [
      "\n",
      "Championship Win Probabilities (2024):\n"
     ]
    },
    {
     "data": {
      "text/html": [
       "<div>\n",
       "<style scoped>\n",
       "    .dataframe tbody tr th:only-of-type {\n",
       "        vertical-align: middle;\n",
       "    }\n",
       "\n",
       "    .dataframe tbody tr th {\n",
       "        vertical-align: top;\n",
       "    }\n",
       "\n",
       "    .dataframe thead th {\n",
       "        text-align: right;\n",
       "    }\n",
       "</style>\n",
       "<table border=\"1\" class=\"dataframe\">\n",
       "  <thead>\n",
       "    <tr style=\"text-align: right;\">\n",
       "      <th></th>\n",
       "      <th>squad</th>\n",
       "      <th>pts</th>\n",
       "      <th>projected_pts</th>\n",
       "      <th>pts/mp</th>\n",
       "      <th>gd</th>\n",
       "      <th>games_left</th>\n",
       "      <th>win_probability (%)</th>\n",
       "    </tr>\n",
       "  </thead>\n",
       "  <tbody>\n",
       "    <tr>\n",
       "      <th>200</th>\n",
       "      <td>Barcelona</td>\n",
       "      <td>88</td>\n",
       "      <td>88.0</td>\n",
       "      <td>2.32</td>\n",
       "      <td>63</td>\n",
       "      <td>0</td>\n",
       "      <td>96.196</td>\n",
       "    </tr>\n",
       "    <tr>\n",
       "      <th>201</th>\n",
       "      <td>Real Madrid</td>\n",
       "      <td>84</td>\n",
       "      <td>84.0</td>\n",
       "      <td>2.21</td>\n",
       "      <td>40</td>\n",
       "      <td>0</td>\n",
       "      <td>3.804</td>\n",
       "    </tr>\n",
       "    <tr>\n",
       "      <th>202</th>\n",
       "      <td>Atlético Madrid</td>\n",
       "      <td>76</td>\n",
       "      <td>76.0</td>\n",
       "      <td>2.00</td>\n",
       "      <td>38</td>\n",
       "      <td>0</td>\n",
       "      <td>0.000</td>\n",
       "    </tr>\n",
       "    <tr>\n",
       "      <th>203</th>\n",
       "      <td>Athletic Club</td>\n",
       "      <td>70</td>\n",
       "      <td>70.0</td>\n",
       "      <td>1.84</td>\n",
       "      <td>25</td>\n",
       "      <td>0</td>\n",
       "      <td>0.000</td>\n",
       "    </tr>\n",
       "    <tr>\n",
       "      <th>204</th>\n",
       "      <td>Villarreal</td>\n",
       "      <td>70</td>\n",
       "      <td>70.0</td>\n",
       "      <td>1.84</td>\n",
       "      <td>20</td>\n",
       "      <td>0</td>\n",
       "      <td>0.000</td>\n",
       "    </tr>\n",
       "    <tr>\n",
       "      <th>205</th>\n",
       "      <td>Betis</td>\n",
       "      <td>60</td>\n",
       "      <td>60.0</td>\n",
       "      <td>1.58</td>\n",
       "      <td>7</td>\n",
       "      <td>0</td>\n",
       "      <td>0.000</td>\n",
       "    </tr>\n",
       "    <tr>\n",
       "      <th>206</th>\n",
       "      <td>Celta Vigo</td>\n",
       "      <td>55</td>\n",
       "      <td>55.0</td>\n",
       "      <td>1.45</td>\n",
       "      <td>2</td>\n",
       "      <td>0</td>\n",
       "      <td>0.000</td>\n",
       "    </tr>\n",
       "    <tr>\n",
       "      <th>207</th>\n",
       "      <td>Rayo Vallecano</td>\n",
       "      <td>52</td>\n",
       "      <td>52.0</td>\n",
       "      <td>1.37</td>\n",
       "      <td>-4</td>\n",
       "      <td>0</td>\n",
       "      <td>0.000</td>\n",
       "    </tr>\n",
       "    <tr>\n",
       "      <th>208</th>\n",
       "      <td>Osasuna</td>\n",
       "      <td>52</td>\n",
       "      <td>52.0</td>\n",
       "      <td>1.37</td>\n",
       "      <td>-4</td>\n",
       "      <td>0</td>\n",
       "      <td>0.000</td>\n",
       "    </tr>\n",
       "    <tr>\n",
       "      <th>209</th>\n",
       "      <td>Mallorca</td>\n",
       "      <td>48</td>\n",
       "      <td>48.0</td>\n",
       "      <td>1.26</td>\n",
       "      <td>-9</td>\n",
       "      <td>0</td>\n",
       "      <td>0.000</td>\n",
       "    </tr>\n",
       "    <tr>\n",
       "      <th>210</th>\n",
       "      <td>Real Sociedad</td>\n",
       "      <td>46</td>\n",
       "      <td>46.0</td>\n",
       "      <td>1.21</td>\n",
       "      <td>-11</td>\n",
       "      <td>0</td>\n",
       "      <td>0.000</td>\n",
       "    </tr>\n",
       "    <tr>\n",
       "      <th>211</th>\n",
       "      <td>Valencia</td>\n",
       "      <td>46</td>\n",
       "      <td>46.0</td>\n",
       "      <td>1.21</td>\n",
       "      <td>-10</td>\n",
       "      <td>0</td>\n",
       "      <td>0.000</td>\n",
       "    </tr>\n",
       "    <tr>\n",
       "      <th>212</th>\n",
       "      <td>Getafe</td>\n",
       "      <td>42</td>\n",
       "      <td>42.0</td>\n",
       "      <td>1.11</td>\n",
       "      <td>-5</td>\n",
       "      <td>0</td>\n",
       "      <td>0.000</td>\n",
       "    </tr>\n",
       "    <tr>\n",
       "      <th>213</th>\n",
       "      <td>Espanyol</td>\n",
       "      <td>42</td>\n",
       "      <td>42.0</td>\n",
       "      <td>1.11</td>\n",
       "      <td>-11</td>\n",
       "      <td>0</td>\n",
       "      <td>0.000</td>\n",
       "    </tr>\n",
       "    <tr>\n",
       "      <th>214</th>\n",
       "      <td>Alavés</td>\n",
       "      <td>42</td>\n",
       "      <td>42.0</td>\n",
       "      <td>1.11</td>\n",
       "      <td>-10</td>\n",
       "      <td>0</td>\n",
       "      <td>0.000</td>\n",
       "    </tr>\n",
       "    <tr>\n",
       "      <th>215</th>\n",
       "      <td>Girona</td>\n",
       "      <td>41</td>\n",
       "      <td>41.0</td>\n",
       "      <td>1.08</td>\n",
       "      <td>-16</td>\n",
       "      <td>0</td>\n",
       "      <td>0.000</td>\n",
       "    </tr>\n",
       "    <tr>\n",
       "      <th>216</th>\n",
       "      <td>Sevilla</td>\n",
       "      <td>41</td>\n",
       "      <td>41.0</td>\n",
       "      <td>1.08</td>\n",
       "      <td>-13</td>\n",
       "      <td>0</td>\n",
       "      <td>0.000</td>\n",
       "    </tr>\n",
       "    <tr>\n",
       "      <th>217</th>\n",
       "      <td>Leganés</td>\n",
       "      <td>40</td>\n",
       "      <td>40.0</td>\n",
       "      <td>1.05</td>\n",
       "      <td>-17</td>\n",
       "      <td>0</td>\n",
       "      <td>0.000</td>\n",
       "    </tr>\n",
       "    <tr>\n",
       "      <th>218</th>\n",
       "      <td>Las Palmas</td>\n",
       "      <td>32</td>\n",
       "      <td>32.0</td>\n",
       "      <td>0.84</td>\n",
       "      <td>-21</td>\n",
       "      <td>0</td>\n",
       "      <td>0.000</td>\n",
       "    </tr>\n",
       "    <tr>\n",
       "      <th>219</th>\n",
       "      <td>Valladolid</td>\n",
       "      <td>16</td>\n",
       "      <td>16.0</td>\n",
       "      <td>0.42</td>\n",
       "      <td>-64</td>\n",
       "      <td>0</td>\n",
       "      <td>0.000</td>\n",
       "    </tr>\n",
       "  </tbody>\n",
       "</table>\n",
       "</div>"
      ],
      "text/plain": [
       "               squad  pts  projected_pts  pts/mp  gd  games_left  \\\n",
       "200        Barcelona   88           88.0    2.32  63           0   \n",
       "201      Real Madrid   84           84.0    2.21  40           0   \n",
       "202  Atlético Madrid   76           76.0    2.00  38           0   \n",
       "203    Athletic Club   70           70.0    1.84  25           0   \n",
       "204       Villarreal   70           70.0    1.84  20           0   \n",
       "205            Betis   60           60.0    1.58   7           0   \n",
       "206       Celta Vigo   55           55.0    1.45   2           0   \n",
       "207   Rayo Vallecano   52           52.0    1.37  -4           0   \n",
       "208          Osasuna   52           52.0    1.37  -4           0   \n",
       "209         Mallorca   48           48.0    1.26  -9           0   \n",
       "210    Real Sociedad   46           46.0    1.21 -11           0   \n",
       "211         Valencia   46           46.0    1.21 -10           0   \n",
       "212           Getafe   42           42.0    1.11  -5           0   \n",
       "213         Espanyol   42           42.0    1.11 -11           0   \n",
       "214           Alavés   42           42.0    1.11 -10           0   \n",
       "215           Girona   41           41.0    1.08 -16           0   \n",
       "216          Sevilla   41           41.0    1.08 -13           0   \n",
       "217          Leganés   40           40.0    1.05 -17           0   \n",
       "218       Las Palmas   32           32.0    0.84 -21           0   \n",
       "219       Valladolid   16           16.0    0.42 -64           0   \n",
       "\n",
       "     win_probability (%)  \n",
       "200               96.196  \n",
       "201                3.804  \n",
       "202                0.000  \n",
       "203                0.000  \n",
       "204                0.000  \n",
       "205                0.000  \n",
       "206                0.000  \n",
       "207                0.000  \n",
       "208                0.000  \n",
       "209                0.000  \n",
       "210                0.000  \n",
       "211                0.000  \n",
       "212                0.000  \n",
       "213                0.000  \n",
       "214                0.000  \n",
       "215                0.000  \n",
       "216                0.000  \n",
       "217                0.000  \n",
       "218                0.000  \n",
       "219                0.000  "
      ]
     },
     "execution_count": 34,
     "metadata": {},
     "output_type": "execute_result"
    }
   ],
   "source": [
    "# Sort the test DataFrame by win probability descending\n",
    "df_test = df_test.sort_values(\"projected_pts\", ascending=False)\n",
    "print(\"\\nChampionship Win Probabilities (2024):\")\n",
    "df_test[[\"squad\", \"pts\", \"projected_pts\", \"pts/mp\", \"gd\", \"games_left\", \"win_probability (%)\"]]"
   ]
  },
  {
   "cell_type": "code",
   "execution_count": 35,
   "id": "ea73aa28",
   "metadata": {},
   "outputs": [
    {
     "data": {
      "application/vnd.plotly.v1+json": {
       "config": {
        "plotlyServerURL": "https://plot.ly"
       },
       "data": [
        {
         "hovertemplate": "Team=%{x}<br>Win Probability (%)=%{y}<extra></extra>",
         "legendgroup": "",
         "marker": {
          "color": "#1f77b4",
          "pattern": {
           "shape": ""
          }
         },
         "name": "",
         "orientation": "v",
         "showlegend": false,
         "textposition": "auto",
         "type": "bar",
         "x": [
          "Barcelona",
          "Real Madrid",
          "Atlético Madrid",
          "Athletic Club",
          "Villarreal",
          "Betis",
          "Celta Vigo",
          "Rayo Vallecano",
          "Osasuna",
          "Mallorca",
          "Real Sociedad",
          "Valencia",
          "Getafe",
          "Espanyol",
          "Alavés",
          "Girona",
          "Sevilla",
          "Leganés",
          "Las Palmas",
          "Valladolid"
         ],
         "xaxis": "x",
         "y": {
          "bdata": "BoGVQ4sMWEA730+Nl24OQAAAAAAAAAAAAAAAAAAAAAAAAAAAAAAAAAAAAAAAAAAAAAAAAAAAAAAAAAAAAAAAAAAAAAAAAAAAAAAAAAAAAAAAAAAAAAAAAAAAAAAAAAAAAAAAAAAAAAAAAAAAAAAAAAAAAAAAAAAAAAAAAAAAAAAAAAAAAAAAAAAAAAAAAAAAAAAAAAAAAAAAAAAAAAAAAA==",
          "dtype": "f8"
         },
         "yaxis": "y"
        }
       ],
       "layout": {
        "bargap": 0.3,
        "barmode": "relative",
        "legend": {
         "tracegroupgap": 0
        },
        "template": {
         "data": {
          "bar": [
           {
            "error_x": {
             "color": "#2a3f5f"
            },
            "error_y": {
             "color": "#2a3f5f"
            },
            "marker": {
             "line": {
              "color": "white",
              "width": 0.5
             },
             "pattern": {
              "fillmode": "overlay",
              "size": 10,
              "solidity": 0.2
             }
            },
            "type": "bar"
           }
          ],
          "barpolar": [
           {
            "marker": {
             "line": {
              "color": "white",
              "width": 0.5
             },
             "pattern": {
              "fillmode": "overlay",
              "size": 10,
              "solidity": 0.2
             }
            },
            "type": "barpolar"
           }
          ],
          "carpet": [
           {
            "aaxis": {
             "endlinecolor": "#2a3f5f",
             "gridcolor": "#C8D4E3",
             "linecolor": "#C8D4E3",
             "minorgridcolor": "#C8D4E3",
             "startlinecolor": "#2a3f5f"
            },
            "baxis": {
             "endlinecolor": "#2a3f5f",
             "gridcolor": "#C8D4E3",
             "linecolor": "#C8D4E3",
             "minorgridcolor": "#C8D4E3",
             "startlinecolor": "#2a3f5f"
            },
            "type": "carpet"
           }
          ],
          "choropleth": [
           {
            "colorbar": {
             "outlinewidth": 0,
             "ticks": ""
            },
            "type": "choropleth"
           }
          ],
          "contour": [
           {
            "colorbar": {
             "outlinewidth": 0,
             "ticks": ""
            },
            "colorscale": [
             [
              0,
              "#0d0887"
             ],
             [
              0.1111111111111111,
              "#46039f"
             ],
             [
              0.2222222222222222,
              "#7201a8"
             ],
             [
              0.3333333333333333,
              "#9c179e"
             ],
             [
              0.4444444444444444,
              "#bd3786"
             ],
             [
              0.5555555555555556,
              "#d8576b"
             ],
             [
              0.6666666666666666,
              "#ed7953"
             ],
             [
              0.7777777777777778,
              "#fb9f3a"
             ],
             [
              0.8888888888888888,
              "#fdca26"
             ],
             [
              1,
              "#f0f921"
             ]
            ],
            "type": "contour"
           }
          ],
          "contourcarpet": [
           {
            "colorbar": {
             "outlinewidth": 0,
             "ticks": ""
            },
            "type": "contourcarpet"
           }
          ],
          "heatmap": [
           {
            "colorbar": {
             "outlinewidth": 0,
             "ticks": ""
            },
            "colorscale": [
             [
              0,
              "#0d0887"
             ],
             [
              0.1111111111111111,
              "#46039f"
             ],
             [
              0.2222222222222222,
              "#7201a8"
             ],
             [
              0.3333333333333333,
              "#9c179e"
             ],
             [
              0.4444444444444444,
              "#bd3786"
             ],
             [
              0.5555555555555556,
              "#d8576b"
             ],
             [
              0.6666666666666666,
              "#ed7953"
             ],
             [
              0.7777777777777778,
              "#fb9f3a"
             ],
             [
              0.8888888888888888,
              "#fdca26"
             ],
             [
              1,
              "#f0f921"
             ]
            ],
            "type": "heatmap"
           }
          ],
          "histogram": [
           {
            "marker": {
             "pattern": {
              "fillmode": "overlay",
              "size": 10,
              "solidity": 0.2
             }
            },
            "type": "histogram"
           }
          ],
          "histogram2d": [
           {
            "colorbar": {
             "outlinewidth": 0,
             "ticks": ""
            },
            "colorscale": [
             [
              0,
              "#0d0887"
             ],
             [
              0.1111111111111111,
              "#46039f"
             ],
             [
              0.2222222222222222,
              "#7201a8"
             ],
             [
              0.3333333333333333,
              "#9c179e"
             ],
             [
              0.4444444444444444,
              "#bd3786"
             ],
             [
              0.5555555555555556,
              "#d8576b"
             ],
             [
              0.6666666666666666,
              "#ed7953"
             ],
             [
              0.7777777777777778,
              "#fb9f3a"
             ],
             [
              0.8888888888888888,
              "#fdca26"
             ],
             [
              1,
              "#f0f921"
             ]
            ],
            "type": "histogram2d"
           }
          ],
          "histogram2dcontour": [
           {
            "colorbar": {
             "outlinewidth": 0,
             "ticks": ""
            },
            "colorscale": [
             [
              0,
              "#0d0887"
             ],
             [
              0.1111111111111111,
              "#46039f"
             ],
             [
              0.2222222222222222,
              "#7201a8"
             ],
             [
              0.3333333333333333,
              "#9c179e"
             ],
             [
              0.4444444444444444,
              "#bd3786"
             ],
             [
              0.5555555555555556,
              "#d8576b"
             ],
             [
              0.6666666666666666,
              "#ed7953"
             ],
             [
              0.7777777777777778,
              "#fb9f3a"
             ],
             [
              0.8888888888888888,
              "#fdca26"
             ],
             [
              1,
              "#f0f921"
             ]
            ],
            "type": "histogram2dcontour"
           }
          ],
          "mesh3d": [
           {
            "colorbar": {
             "outlinewidth": 0,
             "ticks": ""
            },
            "type": "mesh3d"
           }
          ],
          "parcoords": [
           {
            "line": {
             "colorbar": {
              "outlinewidth": 0,
              "ticks": ""
             }
            },
            "type": "parcoords"
           }
          ],
          "pie": [
           {
            "automargin": true,
            "type": "pie"
           }
          ],
          "scatter": [
           {
            "fillpattern": {
             "fillmode": "overlay",
             "size": 10,
             "solidity": 0.2
            },
            "type": "scatter"
           }
          ],
          "scatter3d": [
           {
            "line": {
             "colorbar": {
              "outlinewidth": 0,
              "ticks": ""
             }
            },
            "marker": {
             "colorbar": {
              "outlinewidth": 0,
              "ticks": ""
             }
            },
            "type": "scatter3d"
           }
          ],
          "scattercarpet": [
           {
            "marker": {
             "colorbar": {
              "outlinewidth": 0,
              "ticks": ""
             }
            },
            "type": "scattercarpet"
           }
          ],
          "scattergeo": [
           {
            "marker": {
             "colorbar": {
              "outlinewidth": 0,
              "ticks": ""
             }
            },
            "type": "scattergeo"
           }
          ],
          "scattergl": [
           {
            "marker": {
             "colorbar": {
              "outlinewidth": 0,
              "ticks": ""
             }
            },
            "type": "scattergl"
           }
          ],
          "scattermap": [
           {
            "marker": {
             "colorbar": {
              "outlinewidth": 0,
              "ticks": ""
             }
            },
            "type": "scattermap"
           }
          ],
          "scattermapbox": [
           {
            "marker": {
             "colorbar": {
              "outlinewidth": 0,
              "ticks": ""
             }
            },
            "type": "scattermapbox"
           }
          ],
          "scatterpolar": [
           {
            "marker": {
             "colorbar": {
              "outlinewidth": 0,
              "ticks": ""
             }
            },
            "type": "scatterpolar"
           }
          ],
          "scatterpolargl": [
           {
            "marker": {
             "colorbar": {
              "outlinewidth": 0,
              "ticks": ""
             }
            },
            "type": "scatterpolargl"
           }
          ],
          "scatterternary": [
           {
            "marker": {
             "colorbar": {
              "outlinewidth": 0,
              "ticks": ""
             }
            },
            "type": "scatterternary"
           }
          ],
          "surface": [
           {
            "colorbar": {
             "outlinewidth": 0,
             "ticks": ""
            },
            "colorscale": [
             [
              0,
              "#0d0887"
             ],
             [
              0.1111111111111111,
              "#46039f"
             ],
             [
              0.2222222222222222,
              "#7201a8"
             ],
             [
              0.3333333333333333,
              "#9c179e"
             ],
             [
              0.4444444444444444,
              "#bd3786"
             ],
             [
              0.5555555555555556,
              "#d8576b"
             ],
             [
              0.6666666666666666,
              "#ed7953"
             ],
             [
              0.7777777777777778,
              "#fb9f3a"
             ],
             [
              0.8888888888888888,
              "#fdca26"
             ],
             [
              1,
              "#f0f921"
             ]
            ],
            "type": "surface"
           }
          ],
          "table": [
           {
            "cells": {
             "fill": {
              "color": "#EBF0F8"
             },
             "line": {
              "color": "white"
             }
            },
            "header": {
             "fill": {
              "color": "#C8D4E3"
             },
             "line": {
              "color": "white"
             }
            },
            "type": "table"
           }
          ]
         },
         "layout": {
          "annotationdefaults": {
           "arrowcolor": "#2a3f5f",
           "arrowhead": 0,
           "arrowwidth": 1
          },
          "autotypenumbers": "strict",
          "coloraxis": {
           "colorbar": {
            "outlinewidth": 0,
            "ticks": ""
           }
          },
          "colorscale": {
           "diverging": [
            [
             0,
             "#8e0152"
            ],
            [
             0.1,
             "#c51b7d"
            ],
            [
             0.2,
             "#de77ae"
            ],
            [
             0.3,
             "#f1b6da"
            ],
            [
             0.4,
             "#fde0ef"
            ],
            [
             0.5,
             "#f7f7f7"
            ],
            [
             0.6,
             "#e6f5d0"
            ],
            [
             0.7,
             "#b8e186"
            ],
            [
             0.8,
             "#7fbc41"
            ],
            [
             0.9,
             "#4d9221"
            ],
            [
             1,
             "#276419"
            ]
           ],
           "sequential": [
            [
             0,
             "#0d0887"
            ],
            [
             0.1111111111111111,
             "#46039f"
            ],
            [
             0.2222222222222222,
             "#7201a8"
            ],
            [
             0.3333333333333333,
             "#9c179e"
            ],
            [
             0.4444444444444444,
             "#bd3786"
            ],
            [
             0.5555555555555556,
             "#d8576b"
            ],
            [
             0.6666666666666666,
             "#ed7953"
            ],
            [
             0.7777777777777778,
             "#fb9f3a"
            ],
            [
             0.8888888888888888,
             "#fdca26"
            ],
            [
             1,
             "#f0f921"
            ]
           ],
           "sequentialminus": [
            [
             0,
             "#0d0887"
            ],
            [
             0.1111111111111111,
             "#46039f"
            ],
            [
             0.2222222222222222,
             "#7201a8"
            ],
            [
             0.3333333333333333,
             "#9c179e"
            ],
            [
             0.4444444444444444,
             "#bd3786"
            ],
            [
             0.5555555555555556,
             "#d8576b"
            ],
            [
             0.6666666666666666,
             "#ed7953"
            ],
            [
             0.7777777777777778,
             "#fb9f3a"
            ],
            [
             0.8888888888888888,
             "#fdca26"
            ],
            [
             1,
             "#f0f921"
            ]
           ]
          },
          "colorway": [
           "#636efa",
           "#EF553B",
           "#00cc96",
           "#ab63fa",
           "#FFA15A",
           "#19d3f3",
           "#FF6692",
           "#B6E880",
           "#FF97FF",
           "#FECB52"
          ],
          "font": {
           "color": "#2a3f5f"
          },
          "geo": {
           "bgcolor": "white",
           "lakecolor": "white",
           "landcolor": "white",
           "showlakes": true,
           "showland": true,
           "subunitcolor": "#C8D4E3"
          },
          "hoverlabel": {
           "align": "left"
          },
          "hovermode": "closest",
          "mapbox": {
           "style": "light"
          },
          "paper_bgcolor": "white",
          "plot_bgcolor": "white",
          "polar": {
           "angularaxis": {
            "gridcolor": "#EBF0F8",
            "linecolor": "#EBF0F8",
            "ticks": ""
           },
           "bgcolor": "white",
           "radialaxis": {
            "gridcolor": "#EBF0F8",
            "linecolor": "#EBF0F8",
            "ticks": ""
           }
          },
          "scene": {
           "xaxis": {
            "backgroundcolor": "white",
            "gridcolor": "#DFE8F3",
            "gridwidth": 2,
            "linecolor": "#EBF0F8",
            "showbackground": true,
            "ticks": "",
            "zerolinecolor": "#EBF0F8"
           },
           "yaxis": {
            "backgroundcolor": "white",
            "gridcolor": "#DFE8F3",
            "gridwidth": 2,
            "linecolor": "#EBF0F8",
            "showbackground": true,
            "ticks": "",
            "zerolinecolor": "#EBF0F8"
           },
           "zaxis": {
            "backgroundcolor": "white",
            "gridcolor": "#DFE8F3",
            "gridwidth": 2,
            "linecolor": "#EBF0F8",
            "showbackground": true,
            "ticks": "",
            "zerolinecolor": "#EBF0F8"
           }
          },
          "shapedefaults": {
           "line": {
            "color": "#2a3f5f"
           }
          },
          "ternary": {
           "aaxis": {
            "gridcolor": "#DFE8F3",
            "linecolor": "#A2B1C6",
            "ticks": ""
           },
           "baxis": {
            "gridcolor": "#DFE8F3",
            "linecolor": "#A2B1C6",
            "ticks": ""
           },
           "bgcolor": "white",
           "caxis": {
            "gridcolor": "#DFE8F3",
            "linecolor": "#A2B1C6",
            "ticks": ""
           }
          },
          "title": {
           "x": 0.05
          },
          "xaxis": {
           "automargin": true,
           "gridcolor": "#EBF0F8",
           "linecolor": "#EBF0F8",
           "ticks": "",
           "title": {
            "standoff": 15
           },
           "zerolinecolor": "#EBF0F8",
           "zerolinewidth": 2
          },
          "yaxis": {
           "automargin": true,
           "gridcolor": "#EBF0F8",
           "linecolor": "#EBF0F8",
           "ticks": "",
           "title": {
            "standoff": 15
           },
           "zerolinecolor": "#EBF0F8",
           "zerolinewidth": 2
          }
         }
        },
        "title": {
         "text": "Championship Win Probabilities (2025 Season)",
         "x": 0.5
        },
        "xaxis": {
         "anchor": "y",
         "domain": [
          0,
          1
         ],
         "tickangle": -45,
         "title": {
          "text": "Team"
         }
        },
        "yaxis": {
         "anchor": "x",
         "domain": [
          0,
          1
         ],
         "title": {
          "text": "Win Probability (%)"
         }
        }
       }
      },
      "image/png": "[encoded data removed]"
     },
     "metadata": {},
     "output_type": "display_data"
    }
   ],
   "source": [
    "import plotly.express as px\n",
    "\n",
    "# Sort by projected_pts (descending)\n",
    "df_test_sorted = df_test.sort_values(\"projected_pts\", ascending=False)\n",
    "\n",
    "# Plot bar chart\n",
    "fig = px.bar(\n",
    "    df_test_sorted,\n",
    "    x=\"squad\",\n",
    "    y=\"win_probability (%)\",\n",
    "    color_discrete_sequence=[\"#1f77b4\"],\n",
    "    title=\"Championship Win Probabilities (2025 Season)\",\n",
    "    labels={\"squad\": \"Team\", \"win_probability (%)\": \"Win Probability (%)\"},\n",
    "    template=\"plotly_white\"\n",
    ")\n",
    "\n",
    "# Improve layout\n",
    "fig.update_layout(\n",
    "    xaxis_title=\"Team\",\n",
    "    yaxis_title=\"Win Probability (%)\",\n",
    "    xaxis_tickangle=-45,\n",
    "    bargap=0.3,\n",
    "    title_x=0.5\n",
    ")\n",
    "\n",
    "fig.show()"
   ]
  },
  {
   "cell_type": "code",
   "execution_count": 36,
   "id": "bf1abe6a-d297-44ff-a385-4ba5ed8e7696",
   "metadata": {},
   "outputs": [
    {
     "data": {
      "application/vnd.plotly.v1+json": {
       "config": {
        "plotlyServerURL": "https://plot.ly"
       },
       "data": [
        {
         "hovertemplate": "<b>%{hovertext}</b><br><br>gf=%{x}<br>ga=%{y}<br>style_cluster=%{marker.color}<extra></extra>",
         "hovertext": [
          "Barcelona",
          "Real Madrid",
          "Atlético Madrid",
          "Valencia",
          "Sevilla",
          "Villarreal",
          "Athletic Club",
          "Celta Vigo",
          "Málaga",
          "Espanyol",
          "Rayo Vallecano",
          "Real Sociedad",
          "Elche",
          "Levante",
          "Getafe",
          "La Coruña",
          "Granada",
          "Eibar",
          "Almería",
          "Córdoba",
          "Barcelona",
          "Real Madrid",
          "Atlético Madrid",
          "Villarreal",
          "Athletic Club",
          "Celta Vigo",
          "Sevilla",
          "Málaga",
          "Real Sociedad",
          "Betis",
          "Las Palmas",
          "Valencia",
          "Espanyol",
          "Eibar",
          "La Coruña",
          "Granada",
          "Sporting Gijón",
          "Rayo Vallecano",
          "Getafe",
          "Levante",
          "Real Madrid",
          "Barcelona",
          "Atlético Madrid",
          "Sevilla",
          "Villarreal",
          "Real Sociedad",
          "Athletic Club",
          "Espanyol",
          "Alavés",
          "Eibar",
          "Málaga",
          "Valencia",
          "Celta Vigo",
          "Las Palmas",
          "Betis",
          "La Coruña",
          "Leganés",
          "Sporting Gijón",
          "Osasuna",
          "Granada",
          "Barcelona",
          "Atlético Madrid",
          "Real Madrid",
          "Valencia",
          "Villarreal",
          "Betis",
          "Sevilla",
          "Getafe",
          "Eibar",
          "Girona",
          "Espanyol",
          "Real Sociedad",
          "Celta Vigo",
          "Alavés",
          "Levante",
          "Athletic Club",
          "Leganés",
          "La Coruña",
          "Las Palmas",
          "Málaga",
          "Barcelona",
          "Atlético Madrid",
          "Real Madrid",
          "Valencia",
          "Getafe",
          "Sevilla",
          "Espanyol",
          "Athletic Club",
          "Real Sociedad",
          "Betis",
          "Alavés",
          "Eibar",
          "Leganés",
          "Villarreal",
          "Levante",
          "Valladolid",
          "Celta Vigo",
          "Girona",
          "Huesca",
          "Rayo Vallecano",
          "Real Madrid",
          "Barcelona",
          "Atlético Madrid",
          "Sevilla",
          "Villarreal",
          "Real Sociedad",
          "Granada",
          "Getafe",
          "Valencia",
          "Osasuna",
          "Athletic Club",
          "Levante",
          "Valladolid",
          "Eibar",
          "Betis",
          "Alavés",
          "Celta Vigo",
          "Leganés",
          "Mallorca",
          "Espanyol",
          "Atlético Madrid",
          "Real Madrid",
          "Barcelona",
          "Sevilla",
          "Real Sociedad",
          "Betis",
          "Villarreal",
          "Celta Vigo",
          "Granada",
          "Athletic Club",
          "Osasuna",
          "Cádiz",
          "Valencia",
          "Levante",
          "Getafe",
          "Alavés",
          "Elche",
          "Huesca",
          "Valladolid",
          "Eibar",
          "Real Madrid",
          "Barcelona",
          "Atlético Madrid",
          "Sevilla",
          "Betis",
          "Real Sociedad",
          "Villarreal",
          "Athletic Club",
          "Valencia",
          "Osasuna",
          "Celta Vigo",
          "Rayo Vallecano",
          "Elche",
          "Espanyol",
          "Getafe",
          "Mallorca",
          "Cádiz",
          "Granada",
          "Levante",
          "Alavés",
          "Barcelona",
          "Real Madrid",
          "Atlético Madrid",
          "Real Sociedad",
          "Villarreal",
          "Betis",
          "Osasuna",
          "Athletic Club",
          "Mallorca",
          "Girona",
          "Rayo Vallecano",
          "Sevilla",
          "Celta Vigo",
          "Cádiz",
          "Getafe",
          "Valencia",
          "Almería",
          "Valladolid",
          "Espanyol",
          "Elche",
          "Real Madrid",
          "Barcelona",
          "Girona",
          "Atlético Madrid",
          "Athletic Club",
          "Real Sociedad",
          "Betis",
          "Villarreal",
          "Valencia",
          "Alavés",
          "Osasuna",
          "Getafe",
          "Celta Vigo",
          "Sevilla",
          "Mallorca",
          "Las Palmas",
          "Rayo Vallecano",
          "Cádiz",
          "Almería",
          "Granada",
          "Barcelona",
          "Real Madrid",
          "Atlético Madrid",
          "Athletic Club",
          "Villarreal",
          "Betis",
          "Celta Vigo",
          "Rayo Vallecano",
          "Osasuna",
          "Mallorca",
          "Real Sociedad",
          "Valencia",
          "Getafe",
          "Espanyol",
          "Alavés",
          "Girona",
          "Sevilla",
          "Leganés",
          "Las Palmas",
          "Valladolid"
         ],
         "legendgroup": "",
         "marker": {
          "color": {
           "bdata": "AgAAAAIAAAACAAAAAgAAAAAAAAAAAAAAAAAAAAAAAAABAAAAAQAAAAEAAAABAAAAAQAAAAEAAAABAAAAAQAAAAEAAAABAAAAAQAAAAEAAAACAAAAAgAAAAIAAAAAAAAAAAAAAAAAAAAAAAAAAAAAAAAAAAABAAAAAQAAAAEAAAABAAAAAQAAAAEAAAABAAAAAQAAAAEAAAABAAAAAQAAAAIAAAACAAAAAgAAAAAAAAAAAAAAAAAAAAAAAAAAAAAAAAAAAAAAAAABAAAAAQAAAAEAAAABAAAAAQAAAAEAAAABAAAAAQAAAAEAAAABAAAAAgAAAAIAAAACAAAAAAAAAAAAAAAAAAAAAQAAAAAAAAABAAAAAQAAAAEAAAAAAAAAAAAAAAEAAAABAAAAAQAAAAEAAAABAAAAAQAAAAEAAAACAAAAAAAAAAAAAAAAAAAAAAAAAAAAAAAAAAAAAAAAAAAAAAABAAAAAQAAAAEAAAABAAAAAQAAAAEAAAABAAAAAQAAAAEAAAABAAAAAQAAAAIAAAACAAAAAAAAAAAAAAAAAAAAAAAAAAAAAAAAAAAAAQAAAAEAAAAAAAAAAQAAAAEAAAABAAAAAQAAAAEAAAABAAAAAQAAAAEAAAABAAAAAgAAAAIAAAACAAAAAAAAAAAAAAAAAAAAAAAAAAAAAAABAAAAAAAAAAEAAAABAAAAAQAAAAEAAAABAAAAAQAAAAEAAAABAAAAAQAAAAEAAAACAAAAAAAAAAAAAAAAAAAAAAAAAAAAAAAAAAAAAAAAAAEAAAABAAAAAAAAAAEAAAABAAAAAQAAAAEAAAABAAAAAQAAAAEAAAABAAAAAQAAAAIAAAACAAAAAgAAAAAAAAAAAAAAAAAAAAAAAAAAAAAAAQAAAAAAAAABAAAAAQAAAAEAAAABAAAAAQAAAAEAAAABAAAAAQAAAAEAAAABAAAAAgAAAAIAAAACAAAAAAAAAAAAAAAAAAAAAAAAAAAAAAABAAAAAQAAAAEAAAABAAAAAQAAAAEAAAABAAAAAQAAAAEAAAABAAAAAQAAAAEAAAACAAAAAgAAAAIAAAAAAAAAAAAAAAAAAAAAAAAAAAAAAAAAAAABAAAAAQAAAAEAAAABAAAAAQAAAAEAAAABAAAAAQAAAAEAAAABAAAAAQAAAA==",
           "dtype": "i4"
          },
          "coloraxis": "coloraxis",
          "symbol": "circle"
         },
         "mode": "markers",
         "name": "",
         "orientation": "v",
         "showlegend": false,
         "type": "scatter",
         "x": {
          "bdata": "bnZDRkcwKi8qLy4sIyIhIx0iIxZwbj8sOjMzJi0iLS4oMS0uKDQlJWp0RkU4OzUxKTgxODU1KSskKigeYzpeQTk8MSosMiRCOygsKSImGBhaNz8zMD4wKS0sJy4lMTsgNSUrKUZWMzY/ODQrLi4pLyAnMCIlHigbQ0NVNTsyPDcvLiUkMi4cJCIiIh1QREE1Pig/KzAlKycoKCEkIywzH0ZLRjM7LiUvJTotLyseIioxITQeV09VRj0zMEEoJC0qLjAhIR0aKyZmTkQ2Rzk7KTAjIywiKCYsKicoGg==",
          "dtype": "i1"
         },
         "xaxis": "x",
         "y": {
          "bdata": "FSYdIC0lKSwwM0QzPkNAPEA3QEQdIhIjLTsyIzA0NTBKPT1FPklDRiklGzEhNSsyKzM3QUVKQD03SF5SHRYsJjI9OiEyOyo7PDI6MTNMSj0kHS4jIy8yLS40MjIrNEIzPjVBRhkmGyIxMC0lNTYmNSs4PDsxM0E6GRwmISYyLDlBKjA6NTkrOTc1OTQfJiseKCUlJDUzKzI0NSk/Mz1MQRQkISMoKSorKzc1NjU1LS1BP0VDGiwuKyUnLUEtLjg2OTYsLzA3S08nJh4dMzI5LTQsLjYnMzA8Nzg9Wg==",
          "dtype": "i1"
         },
         "yaxis": "y"
        }
       ],
       "layout": {
        "coloraxis": {
         "colorbar": {
          "title": {
           "text": "style_cluster"
          }
         },
         "colorscale": [
          [
           0,
           "#0d0887"
          ],
          [
           0.1111111111111111,
           "#46039f"
          ],
          [
           0.2222222222222222,
           "#7201a8"
          ],
          [
           0.3333333333333333,
           "#9c179e"
          ],
          [
           0.4444444444444444,
           "#bd3786"
          ],
          [
           0.5555555555555556,
           "#d8576b"
          ],
          [
           0.6666666666666666,
           "#ed7953"
          ],
          [
           0.7777777777777778,
           "#fb9f3a"
          ],
          [
           0.8888888888888888,
           "#fdca26"
          ],
          [
           1,
           "#f0f921"
          ]
         ]
        },
        "legend": {
         "tracegroupgap": 0
        },
        "template": {
         "data": {
          "bar": [
           {
            "error_x": {
             "color": "#2a3f5f"
            },
            "error_y": {
             "color": "#2a3f5f"
            },
            "marker": {
             "line": {
              "color": "#E5ECF6",
              "width": 0.5
             },
             "pattern": {
              "fillmode": "overlay",
              "size": 10,
              "solidity": 0.2
             }
            },
            "type": "bar"
           }
          ],
          "barpolar": [
           {
            "marker": {
             "line": {
              "color": "#E5ECF6",
              "width": 0.5
             },
             "pattern": {
              "fillmode": "overlay",
              "size": 10,
              "solidity": 0.2
             }
            },
            "type": "barpolar"
           }
          ],
          "carpet": [
           {
            "aaxis": {
             "endlinecolor": "#2a3f5f",
             "gridcolor": "white",
             "linecolor": "white",
             "minorgridcolor": "white",
             "startlinecolor": "#2a3f5f"
            },
            "baxis": {
             "endlinecolor": "#2a3f5f",
             "gridcolor": "white",
             "linecolor": "white",
             "minorgridcolor": "white",
             "startlinecolor": "#2a3f5f"
            },
            "type": "carpet"
           }
          ],
          "choropleth": [
           {
            "colorbar": {
             "outlinewidth": 0,
             "ticks": ""
            },
            "type": "choropleth"
           }
          ],
          "contour": [
           {
            "colorbar": {
             "outlinewidth": 0,
             "ticks": ""
            },
            "colorscale": [
             [
              0,
              "#0d0887"
             ],
             [
              0.1111111111111111,
              "#46039f"
             ],
             [
              0.2222222222222222,
              "#7201a8"
             ],
             [
              0.3333333333333333,
              "#9c179e"
             ],
             [
              0.4444444444444444,
              "#bd3786"
             ],
             [
              0.5555555555555556,
              "#d8576b"
             ],
             [
              0.6666666666666666,
              "#ed7953"
             ],
             [
              0.7777777777777778,
              "#fb9f3a"
             ],
             [
              0.8888888888888888,
              "#fdca26"
             ],
             [
              1,
              "#f0f921"
             ]
            ],
            "type": "contour"
           }
          ],
          "contourcarpet": [
           {
            "colorbar": {
             "outlinewidth": 0,
             "ticks": ""
            },
            "type": "contourcarpet"
           }
          ],
          "heatmap": [
           {
            "colorbar": {
             "outlinewidth": 0,
             "ticks": ""
            },
            "colorscale": [
             [
              0,
              "#0d0887"
             ],
             [
              0.1111111111111111,
              "#46039f"
             ],
             [
              0.2222222222222222,
              "#7201a8"
             ],
             [
              0.3333333333333333,
              "#9c179e"
             ],
             [
              0.4444444444444444,
              "#bd3786"
             ],
             [
              0.5555555555555556,
              "#d8576b"
             ],
             [
              0.6666666666666666,
              "#ed7953"
             ],
             [
              0.7777777777777778,
              "#fb9f3a"
             ],
             [
              0.8888888888888888,
              "#fdca26"
             ],
             [
              1,
              "#f0f921"
             ]
            ],
            "type": "heatmap"
           }
          ],
          "histogram": [
           {
            "marker": {
             "pattern": {
              "fillmode": "overlay",
              "size": 10,
              "solidity": 0.2
             }
            },
            "type": "histogram"
           }
          ],
          "histogram2d": [
           {
            "colorbar": {
             "outlinewidth": 0,
             "ticks": ""
            },
            "colorscale": [
             [
              0,
              "#0d0887"
             ],
             [
              0.1111111111111111,
              "#46039f"
             ],
             [
              0.2222222222222222,
              "#7201a8"
             ],
             [
              0.3333333333333333,
              "#9c179e"
             ],
             [
              0.4444444444444444,
              "#bd3786"
             ],
             [
              0.5555555555555556,
              "#d8576b"
             ],
             [
              0.6666666666666666,
              "#ed7953"
             ],
             [
              0.7777777777777778,
              "#fb9f3a"
             ],
             [
              0.8888888888888888,
              "#fdca26"
             ],
             [
              1,
              "#f0f921"
             ]
            ],
            "type": "histogram2d"
           }
          ],
          "histogram2dcontour": [
           {
            "colorbar": {
             "outlinewidth": 0,
             "ticks": ""
            },
            "colorscale": [
             [
              0,
              "#0d0887"
             ],
             [
              0.1111111111111111,
              "#46039f"
             ],
             [
              0.2222222222222222,
              "#7201a8"
             ],
             [
              0.3333333333333333,
              "#9c179e"
             ],
             [
              0.4444444444444444,
              "#bd3786"
             ],
             [
              0.5555555555555556,
              "#d8576b"
             ],
             [
              0.6666666666666666,
              "#ed7953"
             ],
             [
              0.7777777777777778,
              "#fb9f3a"
             ],
             [
              0.8888888888888888,
              "#fdca26"
             ],
             [
              1,
              "#f0f921"
             ]
            ],
            "type": "histogram2dcontour"
           }
          ],
          "mesh3d": [
           {
            "colorbar": {
             "outlinewidth": 0,
             "ticks": ""
            },
            "type": "mesh3d"
           }
          ],
          "parcoords": [
           {
            "line": {
             "colorbar": {
              "outlinewidth": 0,
              "ticks": ""
             }
            },
            "type": "parcoords"
           }
          ],
          "pie": [
           {
            "automargin": true,
            "type": "pie"
           }
          ],
          "scatter": [
           {
            "fillpattern": {
             "fillmode": "overlay",
             "size": 10,
             "solidity": 0.2
            },
            "type": "scatter"
           }
          ],
          "scatter3d": [
           {
            "line": {
             "colorbar": {
              "outlinewidth": 0,
              "ticks": ""
             }
            },
            "marker": {
             "colorbar": {
              "outlinewidth": 0,
              "ticks": ""
             }
            },
            "type": "scatter3d"
           }
          ],
          "scattercarpet": [
           {
            "marker": {
             "colorbar": {
              "outlinewidth": 0,
              "ticks": ""
             }
            },
            "type": "scattercarpet"
           }
          ],
          "scattergeo": [
           {
            "marker": {
             "colorbar": {
              "outlinewidth": 0,
              "ticks": ""
             }
            },
            "type": "scattergeo"
           }
          ],
          "scattergl": [
           {
            "marker": {
             "colorbar": {
              "outlinewidth": 0,
              "ticks": ""
             }
            },
            "type": "scattergl"
           }
          ],
          "scattermap": [
           {
            "marker": {
             "colorbar": {
              "outlinewidth": 0,
              "ticks": ""
             }
            },
            "type": "scattermap"
           }
          ],
          "scattermapbox": [
           {
            "marker": {
             "colorbar": {
              "outlinewidth": 0,
              "ticks": ""
             }
            },
            "type": "scattermapbox"
           }
          ],
          "scatterpolar": [
           {
            "marker": {
             "colorbar": {
              "outlinewidth": 0,
              "ticks": ""
             }
            },
            "type": "scatterpolar"
           }
          ],
          "scatterpolargl": [
           {
            "marker": {
             "colorbar": {
              "outlinewidth": 0,
              "ticks": ""
             }
            },
            "type": "scatterpolargl"
           }
          ],
          "scatterternary": [
           {
            "marker": {
             "colorbar": {
              "outlinewidth": 0,
              "ticks": ""
             }
            },
            "type": "scatterternary"
           }
          ],
          "surface": [
           {
            "colorbar": {
             "outlinewidth": 0,
             "ticks": ""
            },
            "colorscale": [
             [
              0,
              "#0d0887"
             ],
             [
              0.1111111111111111,
              "#46039f"
             ],
             [
              0.2222222222222222,
              "#7201a8"
             ],
             [
              0.3333333333333333,
              "#9c179e"
             ],
             [
              0.4444444444444444,
              "#bd3786"
             ],
             [
              0.5555555555555556,
              "#d8576b"
             ],
             [
              0.6666666666666666,
              "#ed7953"
             ],
             [
              0.7777777777777778,
              "#fb9f3a"
             ],
             [
              0.8888888888888888,
              "#fdca26"
             ],
             [
              1,
              "#f0f921"
             ]
            ],
            "type": "surface"
           }
          ],
          "table": [
           {
            "cells": {
             "fill": {
              "color": "#EBF0F8"
             },
             "line": {
              "color": "white"
             }
            },
            "header": {
             "fill": {
              "color": "#C8D4E3"
             },
             "line": {
              "color": "white"
             }
            },
            "type": "table"
           }
          ]
         },
         "layout": {
          "annotationdefaults": {
           "arrowcolor": "#2a3f5f",
           "arrowhead": 0,
           "arrowwidth": 1
          },
          "autotypenumbers": "strict",
          "coloraxis": {
           "colorbar": {
            "outlinewidth": 0,
            "ticks": ""
           }
          },
          "colorscale": {
           "diverging": [
            [
             0,
             "#8e0152"
            ],
            [
             0.1,
             "#c51b7d"
            ],
            [
             0.2,
             "#de77ae"
            ],
            [
             0.3,
             "#f1b6da"
            ],
            [
             0.4,
             "#fde0ef"
            ],
            [
             0.5,
             "#f7f7f7"
            ],
            [
             0.6,
             "#e6f5d0"
            ],
            [
             0.7,
             "#b8e186"
            ],
            [
             0.8,
             "#7fbc41"
            ],
            [
             0.9,
             "#4d9221"
            ],
            [
             1,
             "#276419"
            ]
           ],
           "sequential": [
            [
             0,
             "#0d0887"
            ],
            [
             0.1111111111111111,
             "#46039f"
            ],
            [
             0.2222222222222222,
             "#7201a8"
            ],
            [
             0.3333333333333333,
             "#9c179e"
            ],
            [
             0.4444444444444444,
             "#bd3786"
            ],
            [
             0.5555555555555556,
             "#d8576b"
            ],
            [
             0.6666666666666666,
             "#ed7953"
            ],
            [
             0.7777777777777778,
             "#fb9f3a"
            ],
            [
             0.8888888888888888,
             "#fdca26"
            ],
            [
             1,
             "#f0f921"
            ]
           ],
           "sequentialminus": [
            [
             0,
             "#0d0887"
            ],
            [
             0.1111111111111111,
             "#46039f"
            ],
            [
             0.2222222222222222,
             "#7201a8"
            ],
            [
             0.3333333333333333,
             "#9c179e"
            ],
            [
             0.4444444444444444,
             "#bd3786"
            ],
            [
             0.5555555555555556,
             "#d8576b"
            ],
            [
             0.6666666666666666,
             "#ed7953"
            ],
            [
             0.7777777777777778,
             "#fb9f3a"
            ],
            [
             0.8888888888888888,
             "#fdca26"
            ],
            [
             1,
             "#f0f921"
            ]
           ]
          },
          "colorway": [
           "#636efa",
           "#EF553B",
           "#00cc96",
           "#ab63fa",
           "#FFA15A",
           "#19d3f3",
           "#FF6692",
           "#B6E880",
           "#FF97FF",
           "#FECB52"
          ],
          "font": {
           "color": "#2a3f5f"
          },
          "geo": {
           "bgcolor": "white",
           "lakecolor": "white",
           "landcolor": "#E5ECF6",
           "showlakes": true,
           "showland": true,
           "subunitcolor": "white"
          },
          "hoverlabel": {
           "align": "left"
          },
          "hovermode": "closest",
          "mapbox": {
           "style": "light"
          },
          "paper_bgcolor": "white",
          "plot_bgcolor": "#E5ECF6",
          "polar": {
           "angularaxis": {
            "gridcolor": "white",
            "linecolor": "white",
            "ticks": ""
           },
           "bgcolor": "#E5ECF6",
           "radialaxis": {
            "gridcolor": "white",
            "linecolor": "white",
            "ticks": ""
           }
          },
          "scene": {
           "xaxis": {
            "backgroundcolor": "#E5ECF6",
            "gridcolor": "white",
            "gridwidth": 2,
            "linecolor": "white",
            "showbackground": true,
            "ticks": "",
            "zerolinecolor": "white"
           },
           "yaxis": {
            "backgroundcolor": "#E5ECF6",
            "gridcolor": "white",
            "gridwidth": 2,
            "linecolor": "white",
            "showbackground": true,
            "ticks": "",
            "zerolinecolor": "white"
           },
           "zaxis": {
            "backgroundcolor": "#E5ECF6",
            "gridcolor": "white",
            "gridwidth": 2,
            "linecolor": "white",
            "showbackground": true,
            "ticks": "",
            "zerolinecolor": "white"
           }
          },
          "shapedefaults": {
           "line": {
            "color": "#2a3f5f"
           }
          },
          "ternary": {
           "aaxis": {
            "gridcolor": "white",
            "linecolor": "white",
            "ticks": ""
           },
           "baxis": {
            "gridcolor": "white",
            "linecolor": "white",
            "ticks": ""
           },
           "bgcolor": "#E5ECF6",
           "caxis": {
            "gridcolor": "white",
            "linecolor": "white",
            "ticks": ""
           }
          },
          "title": {
           "x": 0.05
          },
          "xaxis": {
           "automargin": true,
           "gridcolor": "white",
           "linecolor": "white",
           "ticks": "",
           "title": {
            "standoff": 15
           },
           "zerolinecolor": "white",
           "zerolinewidth": 2
          },
          "yaxis": {
           "automargin": true,
           "gridcolor": "white",
           "linecolor": "white",
           "ticks": "",
           "title": {
            "standoff": 15
           },
           "zerolinecolor": "white",
           "zerolinewidth": 2
          }
         }
        },
        "title": {
         "text": "Team Styles Clustering (Attack vs Defense)"
        },
        "xaxis": {
         "anchor": "y",
         "domain": [
          0,
          1
         ],
         "title": {
          "text": "gf"
         }
        },
        "yaxis": {
         "anchor": "x",
         "domain": [
          0,
          1
         ],
         "title": {
          "text": "ga"
         }
        }
       }
      },
      "image/png": "[encoded data removed]"
     },
     "metadata": {},
     "output_type": "display_data"
    }
   ],
   "source": [
    "from sklearn.cluster import KMeans\n",
    "features_cluster = full_data[[\"gf\",\"ga\",\"gd\",\"pts\"]]\n",
    "kmeans = KMeans(n_clusters=3, random_state=42)\n",
    "full_data[\"style_cluster\"] = kmeans.fit_predict(features_cluster)\n",
    "\n",
    "px.scatter(full_data, x=\"gf\", y=\"ga\", color=\"style_cluster\",\n",
    "           hover_name=\"squad\", title=\"Team Styles Clustering (Attack vs Defense)\")\n"
   ]
  },
  {
   "cell_type": "markdown",
   "id": "b3a2e3d1",
   "metadata": {},
   "source": [
    "- Based on our analysis Barcelona has 86.16% chances of being the champion of Spain followed by Real Madrid 13.8 \n",
    "- The 7th position for the conference league is most like gonna be Celta Vigo (based on Projected points)\n",
    "- The relegated teams will most likely be 'Valladolid' and 'Las Palmas'"
   ]
  }
 ],
 "metadata": {
  "kernelspec": {
   "display_name": "Python 3 (ipykernel)",
   "language": "python",
   "name": "python3"
  },
  "language_info": {
   "codemirror_mode": {
    "name": "ipython",
    "version": 3
   },
   "file_extension": ".py",
   "mimetype": "text/x-python",
   "name": "python",
   "nbconvert_exporter": "python",
   "pygments_lexer": "ipython3",
   "version": "3.12.3"
  }
 },
 "nbformat": 4,
 "nbformat_minor": 5
}
